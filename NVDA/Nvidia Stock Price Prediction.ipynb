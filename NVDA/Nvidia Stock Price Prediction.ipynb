{
 "cells": [
  {
   "cell_type": "markdown",
   "metadata": {},
   "source": [
    "# Predicting Stock Prices with Recurrent Neural Networks in TensorFlow"
   ]
  },
  {
   "cell_type": "markdown",
   "metadata": {},
   "source": [
    "Written by: Udbhav Prasad <br>\n",
    "Linkedin: https://www.linkedin.com/in/udbhav-prasad-1506b7192/ <br>\n",
    "HackerRank: https://www.hackerrank.com/uprasad1 <br>\n",
    "Github: https://github.com/UdbhavPrasad072300 <br>\n",
    "Computer Science Co-op - Ryerson University <br> <hr>"
   ]
  },
  {
   "cell_type": "code",
   "execution_count": 1,
   "metadata": {},
   "outputs": [],
   "source": [
    "import numpy as np\n",
    "import matplotlib.pyplot as plt\n",
    "import pandas as pd\n",
    "\n",
    "from sklearn.preprocessing import MinMaxScaler\n",
    "\n",
    "from tensorflow.keras.models import Sequential\n",
    "from tensorflow.keras.layers import Dense\n",
    "from tensorflow.keras.layers import LSTM\n",
    "from tensorflow.keras.layers import Dropout"
   ]
  },
  {
   "cell_type": "code",
   "execution_count": 2,
   "metadata": {},
   "outputs": [],
   "source": [
    "import yfinance as yf"
   ]
  },
  {
   "cell_type": "markdown",
   "metadata": {},
   "source": [
    "## Data Preprocessing"
   ]
  },
  {
   "cell_type": "code",
   "execution_count": 3,
   "metadata": {},
   "outputs": [],
   "source": [
    "nvda = yf.Ticker(\"NVDA\")"
   ]
  },
  {
   "cell_type": "code",
   "execution_count": 4,
   "metadata": {},
   "outputs": [
    {
     "data": {
      "text/plain": [
       "{'zip': '95051',\n",
       " 'sector': 'Technology',\n",
       " 'fullTimeEmployees': 13775,\n",
       " 'longBusinessSummary': \"NVIDIA Corporation operates as a visual computing company worldwide. It operates in two segments, GPU and Tegra Processor. The GPU segment offers processors, which include GeForce for PC gaming and mainstream PCs; GeForce NOW for cloud-based gaming; Quadro for design professionals working in computer-aided design, video editing, special effects, and other creative applications; Tesla for artificial intelligence (AI) utilizing deep learning, accelerated computing, and general purpose computing; GRID, which provides power of NVIDIA graphics through the cloud and datacenters; DGX for AI scientists, researchers, and developers; and EGX for accelerated AI computing at the edge. The Tegra Processor segment provides processors comprising SHIELD devices and services designed to harness the power of mobile-cloud to revolutionize home entertainment, AI, and gaming; AGX, a power-efficient AI computing platform for intelligent edge devices; DRIVE AGX for self-driving vehicles; Clara AGX for medical instruments; and Jetson AGX for robotics and other embedded use. The company's products are used in gaming, professional visualization, datacenter, and automotive markets. NVIDIA Corporation sells its products to original equipment manufacturers, original device manufacturers, system builders, add-in board manufacturers, retailers/distributors, Internet and cloud service providers, automotive manufacturers and tier-1 automotive suppliers, mapping companies, start-ups, and other ecosystem participants. NVIDIA Corporation was founded in 1993 and is headquartered in Santa Clara, California.\",\n",
       " 'city': 'Santa Clara',\n",
       " 'phone': '408 486 2000',\n",
       " 'state': 'CA',\n",
       " 'country': 'United States',\n",
       " 'companyOfficers': [],\n",
       " 'website': 'http://www.nvidia.com',\n",
       " 'maxAge': 1,\n",
       " 'address1': '2788 San Tomas Expressway',\n",
       " 'industry': 'Semiconductors',\n",
       " 'previousClose': 361.05,\n",
       " 'regularMarketOpen': 366.27,\n",
       " 'twoHundredDayAverage': 256.73453,\n",
       " 'trailingAnnualDividendYield': 0.0017726077,\n",
       " 'payoutRatio': 0.11960000000000001,\n",
       " 'volume24Hr': None,\n",
       " 'regularMarketDayHigh': 367.27,\n",
       " 'navPrice': None,\n",
       " 'averageDailyVolume10Day': 19378916,\n",
       " 'totalAssets': None,\n",
       " 'regularMarketPreviousClose': 361.05,\n",
       " 'fiftyDayAverage': 303.4594,\n",
       " 'trailingAnnualDividendRate': 0.64,\n",
       " 'open': 366.27,\n",
       " 'toCurrency': None,\n",
       " 'averageVolume10days': 19378916,\n",
       " 'expireDate': None,\n",
       " 'yield': None,\n",
       " 'algorithm': None,\n",
       " 'dividendRate': 0.64,\n",
       " 'exDividendDate': 1591228800,\n",
       " 'beta': 1.330135,\n",
       " 'circulatingSupply': None,\n",
       " 'startDate': None,\n",
       " 'regularMarketDayLow': 346.88,\n",
       " 'priceHint': 2,\n",
       " 'currency': 'USD',\n",
       " 'trailingPE': 77.14823,\n",
       " 'regularMarketVolume': 19269476,\n",
       " 'lastMarket': None,\n",
       " 'maxSupply': None,\n",
       " 'openInterest': None,\n",
       " 'marketCap': 214456647680,\n",
       " 'volumeAllCurrencies': None,\n",
       " 'strikePrice': None,\n",
       " 'averageVolume': 15721545,\n",
       " 'priceToSalesTrailing12Months': 19.642485,\n",
       " 'dayLow': 346.88,\n",
       " 'ask': 352.8,\n",
       " 'ytdReturn': None,\n",
       " 'askSize': 800,\n",
       " 'volume': 19269476,\n",
       " 'fiftyTwoWeekHigh': 367.27,\n",
       " 'forwardPE': 38.193867,\n",
       " 'fromCurrency': None,\n",
       " 'fiveYearAvgDividendYield': 0.6000000000000001,\n",
       " 'fiftyTwoWeekLow': 132.6,\n",
       " 'bid': 352.3,\n",
       " 'tradeable': False,\n",
       " 'dividendYield': 0.0018000001,\n",
       " 'bidSize': 900,\n",
       " 'dayHigh': 367.27,\n",
       " 'exchange': 'NMS',\n",
       " 'shortName': 'NVIDIA Corporation',\n",
       " 'longName': 'NVIDIA Corporation',\n",
       " 'exchangeTimezoneName': 'America/New_York',\n",
       " 'exchangeTimezoneShortName': 'EDT',\n",
       " 'isEsgPopulated': False,\n",
       " 'gmtOffSetMilliseconds': '-14400000',\n",
       " 'quoteType': 'EQUITY',\n",
       " 'symbol': 'NVDA',\n",
       " 'messageBoardId': 'finmb_32307',\n",
       " 'market': 'us_market',\n",
       " 'annualHoldingsTurnover': None,\n",
       " 'enterpriseToRevenue': 16.761,\n",
       " 'beta3Year': None,\n",
       " 'profitMargins': 0.25609000000000004,\n",
       " 'enterpriseToEbitda': 56.708,\n",
       " '52WeekChange': 1.4847512,\n",
       " 'morningStarRiskRating': None,\n",
       " 'forwardEps': 9.13,\n",
       " 'revenueQuarterlyGrowth': None,\n",
       " 'sharesOutstanding': 615000000,\n",
       " 'fundInceptionDate': None,\n",
       " 'annualReportExpenseRatio': None,\n",
       " 'bookValue': 19.925,\n",
       " 'sharesShort': 10652551,\n",
       " 'sharesPercentSharesOut': 0.0173,\n",
       " 'fundFamily': None,\n",
       " 'lastFiscalYearEnd': 1579996800,\n",
       " 'heldPercentInstitutions': 0.69228,\n",
       " 'netIncomeToCommon': 2796000000,\n",
       " 'trailingEps': 4.52,\n",
       " 'lastDividendValue': None,\n",
       " 'SandP52WeekChange': 0.07500839000000001,\n",
       " 'priceToBook': 17.50113,\n",
       " 'heldPercentInsiders': 0.041510000000000005,\n",
       " 'nextFiscalYearEnd': 1643155200,\n",
       " 'mostRecentQuarter': 1579996800,\n",
       " 'shortRatio': 0.76,\n",
       " 'sharesShortPreviousMonthDate': 1585612800,\n",
       " 'floatShares': 586271520,\n",
       " 'enterpriseValue': 182995992576,\n",
       " 'threeYearAverageReturn': None,\n",
       " 'lastSplitDate': 1189468800,\n",
       " 'lastSplitFactor': '3:2',\n",
       " 'legalType': None,\n",
       " 'morningStarOverallRating': None,\n",
       " 'earningsQuarterlyGrowth': 0.68,\n",
       " 'dateShortInterest': 1588204800,\n",
       " 'pegRatio': 2.7199999999999998,\n",
       " 'lastCapGain': None,\n",
       " 'shortPercentOfFloat': 0.018099999000000002,\n",
       " 'sharesShortPriorMonth': 11453634,\n",
       " 'category': None,\n",
       " 'fiveYearAverageReturn': None,\n",
       " 'regularMarketPrice': 366.27,\n",
       " 'logo_url': 'https://logo.clearbit.com/nvidia.com'}"
      ]
     },
     "execution_count": 4,
     "metadata": {},
     "output_type": "execute_result"
    }
   ],
   "source": [
    "nvda.info"
   ]
  },
  {
   "cell_type": "code",
   "execution_count": 5,
   "metadata": {},
   "outputs": [],
   "source": [
    "hist = nvda.history(period=\"5Y\")"
   ]
  },
  {
   "cell_type": "code",
   "execution_count": 6,
   "metadata": {
    "scrolled": false
   },
   "outputs": [
    {
     "data": {
      "text/plain": [
       "<matplotlib.axes._subplots.AxesSubplot at 0x25deec97788>"
      ]
     },
     "execution_count": 6,
     "metadata": {},
     "output_type": "execute_result"
    },
    {
     "data": {
      "image/png": "[encoded data removed]",
      "text/plain": [
       "<Figure size 1152x648 with 1 Axes>"
      ]
     },
     "metadata": {
      "needs_background": "light"
     },
     "output_type": "display_data"
    }
   ],
   "source": [
    "hist['Close'].plot(figsize=(16, 9))"
   ]
  },
  {
   "cell_type": "code",
   "execution_count": 7,
   "metadata": {},
   "outputs": [],
   "source": [
    "hist.to_csv('NVDA.csv')"
   ]
  },
  {
   "cell_type": "markdown",
   "metadata": {},
   "source": [
    "Importing Training Set"
   ]
  },
  {
   "cell_type": "code",
   "execution_count": 8,
   "metadata": {},
   "outputs": [],
   "source": [
    "dataset_train = hist\n",
    "training_set = dataset_train.iloc[:, 1:2].values"
   ]
  },
  {
   "cell_type": "code",
   "execution_count": 9,
   "metadata": {},
   "outputs": [
    {
     "data": {
      "text/plain": [
       "1259"
      ]
     },
     "execution_count": 9,
     "metadata": {},
     "output_type": "execute_result"
    }
   ],
   "source": [
    "len(training_set)"
   ]
  },
  {
   "cell_type": "markdown",
   "metadata": {},
   "source": [
    "Feature Scaling (Normalizing)"
   ]
  },
  {
   "cell_type": "code",
   "execution_count": 10,
   "metadata": {},
   "outputs": [],
   "source": [
    "sc = MinMaxScaler(feature_range = (0, 1))\n",
    "training_set_scaled = sc.fit_transform(training_set)"
   ]
  },
  {
   "cell_type": "markdown",
   "metadata": {},
   "source": [
    "Creating a data structure with 60 timesteps and 1 output"
   ]
  },
  {
   "cell_type": "code",
   "execution_count": 11,
   "metadata": {},
   "outputs": [],
   "source": [
    "X_train = []\n",
    "y_train = []\n",
    "for i in range(60, len(training_set)-200):\n",
    "    X_train.append(training_set_scaled[i-60:i, 0])\n",
    "    y_train.append(training_set_scaled[i, 0])\n",
    "X_train, y_train = np.array(X_train), np.array(y_train)"
   ]
  },
  {
   "cell_type": "markdown",
   "metadata": {},
   "source": [
    "Reshaping"
   ]
  },
  {
   "cell_type": "code",
   "execution_count": 12,
   "metadata": {},
   "outputs": [],
   "source": [
    "X_train = np.reshape(X_train, (X_train.shape[0], X_train.shape[1], 1))"
   ]
  },
  {
   "cell_type": "markdown",
   "metadata": {},
   "source": [
    "## Building Recurrent Neural Network"
   ]
  },
  {
   "cell_type": "markdown",
   "metadata": {},
   "source": [
    "Initializing Sequential Network"
   ]
  },
  {
   "cell_type": "code",
   "execution_count": 13,
   "metadata": {},
   "outputs": [],
   "source": [
    "regressor = Sequential()"
   ]
  },
  {
   "cell_type": "code",
   "execution_count": 14,
   "metadata": {},
   "outputs": [],
   "source": [
    "regressor.add(LSTM(units = 50, return_sequences = True, input_shape = (X_train.shape[1], 1)))\n",
    "regressor.add(Dropout(0.2))"
   ]
  },
  {
   "cell_type": "code",
   "execution_count": 15,
   "metadata": {},
   "outputs": [],
   "source": [
    "regressor.add(LSTM(units = 50, return_sequences = True))\n",
    "regressor.add(Dropout(0.2))"
   ]
  },
  {
   "cell_type": "code",
   "execution_count": 16,
   "metadata": {},
   "outputs": [],
   "source": [
    "regressor.add(LSTM(units = 50, return_sequences = True))\n",
    "regressor.add(Dropout(0.2))"
   ]
  },
  {
   "cell_type": "code",
   "execution_count": 17,
   "metadata": {},
   "outputs": [],
   "source": [
    "regressor.add(LSTM(units = 50))\n",
    "regressor.add(Dropout(0.2))"
   ]
  },
  {
   "cell_type": "code",
   "execution_count": 18,
   "metadata": {},
   "outputs": [],
   "source": [
    "regressor.add(Dense(units = 1))"
   ]
  },
  {
   "cell_type": "markdown",
   "metadata": {},
   "source": [
    "Compiling Recurrent Neural Network"
   ]
  },
  {
   "cell_type": "code",
   "execution_count": 19,
   "metadata": {},
   "outputs": [],
   "source": [
    "regressor.compile(optimizer = 'adam', loss = 'mean_squared_error')"
   ]
  },
  {
   "cell_type": "markdown",
   "metadata": {},
   "source": [
    "Training Recurrent Neural Network"
   ]
  },
  {
   "cell_type": "code",
   "execution_count": 20,
   "metadata": {
    "scrolled": true
   },
   "outputs": [
    {
     "name": "stdout",
     "output_type": "stream",
     "text": [
      "Train on 999 samples\n",
      "Epoch 1/100\n",
      "999/999 [==============================] - 5s 5ms/sample - loss: 0.0283\n",
      "Epoch 2/100\n",
      "999/999 [==============================] - 0s 340us/sample - loss: 0.0052\n",
      "Epoch 3/100\n",
      "999/999 [==============================] - 0s 341us/sample - loss: 0.0036\n",
      "Epoch 4/100\n",
      "999/999 [==============================] - 0s 340us/sample - loss: 0.0035\n",
      "Epoch 5/100\n",
      "999/999 [==============================] - 0s 344us/sample - loss: 0.0035\n",
      "Epoch 6/100\n",
      "999/999 [==============================] - 0s 339us/sample - loss: 0.0028\n",
      "Epoch 7/100\n",
      "999/999 [==============================] - 0s 338us/sample - loss: 0.0033\n",
      "Epoch 8/100\n",
      "999/999 [==============================] - 0s 340us/sample - loss: 0.0033\n",
      "Epoch 9/100\n",
      "999/999 [==============================] - 0s 346us/sample - loss: 0.0032\n",
      "Epoch 10/100\n",
      "999/999 [==============================] - 0s 344us/sample - loss: 0.0028\n",
      "Epoch 11/100\n",
      "999/999 [==============================] - 0s 348us/sample - loss: 0.0027\n",
      "Epoch 12/100\n",
      "999/999 [==============================] - 0s 340us/sample - loss: 0.0028\n",
      "Epoch 13/100\n",
      "999/999 [==============================] - 0s 337us/sample - loss: 0.0025\n",
      "Epoch 14/100\n",
      "999/999 [==============================] - 0s 345us/sample - loss: 0.0024\n",
      "Epoch 15/100\n",
      "999/999 [==============================] - 0s 344us/sample - loss: 0.0023\n",
      "Epoch 16/100\n",
      "999/999 [==============================] - 0s 339us/sample - loss: 0.0023\n",
      "Epoch 17/100\n",
      "999/999 [==============================] - 0s 337us/sample - loss: 0.0023\n",
      "Epoch 18/100\n",
      "999/999 [==============================] - 0s 343us/sample - loss: 0.0023\n",
      "Epoch 19/100\n",
      "999/999 [==============================] - 0s 344us/sample - loss: 0.0020\n",
      "Epoch 20/100\n",
      "999/999 [==============================] - 0s 347us/sample - loss: 0.0026\n",
      "Epoch 21/100\n",
      "999/999 [==============================] - 0s 345us/sample - loss: 0.0023\n",
      "Epoch 22/100\n",
      "999/999 [==============================] - 0s 342us/sample - loss: 0.0022\n",
      "Epoch 23/100\n",
      "999/999 [==============================] - 0s 346us/sample - loss: 0.0019\n",
      "Epoch 24/100\n",
      "999/999 [==============================] - 0s 344us/sample - loss: 0.0020\n",
      "Epoch 25/100\n",
      "999/999 [==============================] - 0s 344us/sample - loss: 0.0019\n",
      "Epoch 26/100\n",
      "999/999 [==============================] - 0s 345us/sample - loss: 0.0024\n",
      "Epoch 27/100\n",
      "999/999 [==============================] - 0s 342us/sample - loss: 0.0020\n",
      "Epoch 28/100\n",
      "999/999 [==============================] - 0s 342us/sample - loss: 0.0024\n",
      "Epoch 29/100\n",
      "999/999 [==============================] - 0s 348us/sample - loss: 0.0019\n",
      "Epoch 30/100\n",
      "999/999 [==============================] - 0s 341us/sample - loss: 0.0018\n",
      "Epoch 31/100\n",
      "999/999 [==============================] - 0s 343us/sample - loss: 0.0018\n",
      "Epoch 32/100\n",
      "999/999 [==============================] - 0s 344us/sample - loss: 0.0019\n",
      "Epoch 33/100\n",
      "999/999 [==============================] - 0s 345us/sample - loss: 0.0016\n",
      "Epoch 34/100\n",
      "999/999 [==============================] - 0s 343us/sample - loss: 0.0017\n",
      "Epoch 35/100\n",
      "999/999 [==============================] - 0s 341us/sample - loss: 0.0016\n",
      "Epoch 36/100\n",
      "999/999 [==============================] - 0s 344us/sample - loss: 0.0019\n",
      "Epoch 37/100\n",
      "999/999 [==============================] - 0s 342us/sample - loss: 0.0018\n",
      "Epoch 38/100\n",
      "999/999 [==============================] - 0s 343us/sample - loss: 0.0017\n",
      "Epoch 39/100\n",
      "999/999 [==============================] - 0s 343us/sample - loss: 0.0018\n",
      "Epoch 40/100\n",
      "999/999 [==============================] - 0s 343us/sample - loss: 0.0018\n",
      "Epoch 41/100\n",
      "999/999 [==============================] - 0s 343us/sample - loss: 0.0015\n",
      "Epoch 42/100\n",
      "999/999 [==============================] - 0s 343us/sample - loss: 0.0020\n",
      "Epoch 43/100\n",
      "999/999 [==============================] - 0s 348us/sample - loss: 0.0019\n",
      "Epoch 44/100\n",
      "999/999 [==============================] - 0s 346us/sample - loss: 0.0016\n",
      "Epoch 45/100\n",
      "999/999 [==============================] - 0s 340us/sample - loss: 0.0014\n",
      "Epoch 46/100\n",
      "999/999 [==============================] - 0s 347us/sample - loss: 0.0014\n",
      "Epoch 47/100\n",
      "999/999 [==============================] - 0s 343us/sample - loss: 0.0015\n",
      "Epoch 48/100\n",
      "999/999 [==============================] - 0s 341us/sample - loss: 0.0014\n",
      "Epoch 49/100\n",
      "999/999 [==============================] - 0s 345us/sample - loss: 0.0016\n",
      "Epoch 50/100\n",
      "999/999 [==============================] - 0s 346us/sample - loss: 0.0015\n",
      "Epoch 51/100\n",
      "999/999 [==============================] - 0s 345us/sample - loss: 0.0014\n",
      "Epoch 52/100\n",
      "999/999 [==============================] - 0s 345us/sample - loss: 0.0016\n",
      "Epoch 53/100\n",
      "999/999 [==============================] - 0s 345us/sample - loss: 0.0014\n",
      "Epoch 54/100\n",
      "999/999 [==============================] - 0s 345us/sample - loss: 0.0013\n",
      "Epoch 55/100\n",
      "999/999 [==============================] - 0s 346us/sample - loss: 0.0016\n",
      "Epoch 56/100\n",
      "999/999 [==============================] - 0s 345us/sample - loss: 0.0020\n",
      "Epoch 57/100\n",
      "999/999 [==============================] - 0s 345us/sample - loss: 0.0014\n",
      "Epoch 58/100\n",
      "999/999 [==============================] - 0s 341us/sample - loss: 0.0014\n",
      "Epoch 59/100\n",
      "999/999 [==============================] - 0s 345us/sample - loss: 0.0013\n",
      "Epoch 60/100\n",
      "999/999 [==============================] - 0s 352us/sample - loss: 0.0015\n",
      "Epoch 61/100\n",
      "999/999 [==============================] - 0s 357us/sample - loss: 0.0013\n",
      "Epoch 62/100\n",
      "999/999 [==============================] - 0s 387us/sample - loss: 0.0012\n",
      "Epoch 63/100\n",
      "999/999 [==============================] - 0s 362us/sample - loss: 0.0013\n",
      "Epoch 64/100\n",
      "999/999 [==============================] - 0s 361us/sample - loss: 0.0013\n",
      "Epoch 65/100\n",
      "999/999 [==============================] - 0s 376us/sample - loss: 0.0012\n",
      "Epoch 66/100\n",
      "999/999 [==============================] - 0s 376us/sample - loss: 0.0013\n",
      "Epoch 67/100\n",
      "999/999 [==============================] - 0s 370us/sample - loss: 0.0012\n",
      "Epoch 68/100\n",
      "999/999 [==============================] - 0s 356us/sample - loss: 0.0013\n",
      "Epoch 69/100\n",
      "999/999 [==============================] - 0s 361us/sample - loss: 0.0013\n",
      "Epoch 70/100\n",
      "999/999 [==============================] - 0s 355us/sample - loss: 0.0012\n",
      "Epoch 71/100\n",
      "999/999 [==============================] - 0s 357us/sample - loss: 0.0012\n",
      "Epoch 72/100\n",
      "999/999 [==============================] - 0s 358us/sample - loss: 0.0013\n",
      "Epoch 73/100\n",
      "999/999 [==============================] - 0s 360us/sample - loss: 0.0011\n",
      "Epoch 74/100\n",
      "999/999 [==============================] - 0s 360us/sample - loss: 0.0011\n",
      "Epoch 75/100\n",
      "999/999 [==============================] - 0s 388us/sample - loss: 0.0012\n",
      "Epoch 76/100\n",
      "999/999 [==============================] - 0s 388us/sample - loss: 0.0011\n",
      "Epoch 77/100\n",
      "999/999 [==============================] - 0s 382us/sample - loss: 0.0011\n",
      "Epoch 78/100\n",
      "999/999 [==============================] - 0s 385us/sample - loss: 0.0012\n",
      "Epoch 79/100\n",
      "999/999 [==============================] - 0s 400us/sample - loss: 0.0011\n",
      "Epoch 80/100\n",
      "999/999 [==============================] - 0s 437us/sample - loss: 0.0012\n",
      "Epoch 81/100\n",
      "999/999 [==============================] - 0s 406us/sample - loss: 0.0012\n",
      "Epoch 82/100\n",
      "999/999 [==============================] - 0s 386us/sample - loss: 0.0013\n",
      "Epoch 83/100\n",
      "999/999 [==============================] - 0s 405us/sample - loss: 0.0012\n",
      "Epoch 84/100\n",
      "999/999 [==============================] - 0s 376us/sample - loss: 0.0010\n",
      "Epoch 85/100\n",
      "999/999 [==============================] - 0s 374us/sample - loss: 0.0010\n",
      "Epoch 86/100\n",
      "999/999 [==============================] - 0s 384us/sample - loss: 0.0010\n",
      "Epoch 87/100\n",
      "999/999 [==============================] - 0s 385us/sample - loss: 0.0012\n",
      "Epoch 88/100\n",
      "999/999 [==============================] - 0s 382us/sample - loss: 0.0010\n",
      "Epoch 89/100\n",
      "999/999 [==============================] - 0s 371us/sample - loss: 9.4339e-04\n",
      "Epoch 90/100\n",
      "999/999 [==============================] - 0s 376us/sample - loss: 8.7513e-04\n",
      "Epoch 91/100\n",
      "999/999 [==============================] - 0s 369us/sample - loss: 0.0010\n",
      "Epoch 92/100\n",
      "999/999 [==============================] - 0s 372us/sample - loss: 0.0011\n",
      "Epoch 93/100\n",
      "999/999 [==============================] - 0s 372us/sample - loss: 9.9622e-04\n",
      "Epoch 94/100\n"
     ]
    },
    {
     "name": "stdout",
     "output_type": "stream",
     "text": [
      "999/999 [==============================] - 0s 369us/sample - loss: 9.1329e-04\n",
      "Epoch 95/100\n",
      "999/999 [==============================] - 0s 365us/sample - loss: 9.8267e-04\n",
      "Epoch 96/100\n",
      "999/999 [==============================] - 0s 370us/sample - loss: 0.0011\n",
      "Epoch 97/100\n",
      "999/999 [==============================] - 0s 372us/sample - loss: 9.7514e-04\n",
      "Epoch 98/100\n",
      "999/999 [==============================] - 0s 381us/sample - loss: 0.0010\n",
      "Epoch 99/100\n",
      "999/999 [==============================] - 0s 377us/sample - loss: 0.0010\n",
      "Epoch 100/100\n",
      "999/999 [==============================] - 0s 375us/sample - loss: 9.7904e-04\n"
     ]
    }
   ],
   "source": [
    "history = regressor.fit(X_train, y_train, epochs = 100, batch_size = 32)"
   ]
  },
  {
   "cell_type": "markdown",
   "metadata": {},
   "source": [
    "## Predictions and Visualizations"
   ]
  },
  {
   "cell_type": "code",
   "execution_count": 21,
   "metadata": {},
   "outputs": [
    {
     "data": {
      "text/plain": [
       "200"
      ]
     },
     "execution_count": 21,
     "metadata": {},
     "output_type": "execute_result"
    }
   ],
   "source": [
    "# Getting the stock price of 2020\n",
    "dataset_test = pd.read_csv(\"NVDA.csv\")\n",
    "dataset_test = dataset_test.iloc[-200:]\n",
    "len(dataset_test)"
   ]
  },
  {
   "cell_type": "code",
   "execution_count": 22,
   "metadata": {
    "scrolled": true
   },
   "outputs": [],
   "source": [
    "real_stock_price = dataset_test.iloc[:, 1:2].values"
   ]
  },
  {
   "cell_type": "code",
   "execution_count": 23,
   "metadata": {},
   "outputs": [],
   "source": [
    "dataset_total = pd.concat((dataset_train['Open'], dataset_test['Open']), axis = 0)\n",
    "inputs = dataset_total[len(dataset_total) - len(dataset_test) - 60:].values\n",
    "inputs = inputs.reshape(-1,1)\n",
    "inputs = sc.transform(inputs)\n",
    "X_test = []\n",
    "for i in range(60, len(inputs)):\n",
    "    X_test.append(inputs[i-60:i, 0])\n",
    "X_test = np.array(X_test)\n",
    "X_test = np.reshape(X_test, (X_test.shape[0], X_test.shape[1], 1))\n",
    "predicted_stock_price = regressor.predict(X_test)\n",
    "predicted_stock_price = sc.inverse_transform(predicted_stock_price)"
   ]
  },
  {
   "cell_type": "markdown",
   "metadata": {},
   "source": [
    "## Plotting"
   ]
  },
  {
   "cell_type": "code",
   "execution_count": 24,
   "metadata": {},
   "outputs": [
    {
     "data": {
      "image/png": "[encoded data removed]",
      "text/plain": [
       "<Figure size 432x288 with 1 Axes>"
      ]
     },
     "metadata": {
      "needs_background": "light"
     },
     "output_type": "display_data"
    }
   ],
   "source": [
    "plt.plot(real_stock_price, color = 'red', label = 'Real Nvidia Stock Price')\n",
    "plt.plot(predicted_stock_price, color = 'blue', label = 'Predicted Nvidia Stock Price')\n",
    "plt.title('Nvidia Stock Price Prediction')\n",
    "plt.xlabel('Time')\n",
    "plt.ylabel('Nvidia Stock Price')\n",
    "plt.legend()\n",
    "plt.show()"
   ]
  },
  {
   "cell_type": "code",
   "execution_count": null,
   "metadata": {},
   "outputs": [],
   "source": []
  }
 ],
 "metadata": {
  "kernelspec": {
   "display_name": "Python 3",
   "language": "python",
   "name": "python3"
  },
  "language_info": {
   "codemirror_mode": {
    "name": "ipython",
    "version": 3
   },
   "file_extension": ".py",
   "mimetype": "text/x-python",
   "name": "python",
   "nbconvert_exporter": "python",
   "pygments_lexer": "ipython3",
   "version": "3.7.7"
  }
 },
 "nbformat": 4,
 "nbformat_minor": 4
}
