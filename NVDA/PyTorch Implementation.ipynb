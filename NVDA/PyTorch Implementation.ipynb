{
 "cells": [
  {
   "cell_type": "code",
   "execution_count": 1,
   "metadata": {},
   "outputs": [],
   "source": [
    "import numpy as np\n",
    "import matplotlib.pyplot as plt\n",
    "import pandas as pd\n",
    "\n",
    "from sklearn.preprocessing import MinMaxScaler\n",
    "\n",
    "import torch\n",
    "import torch.nn as nn\n",
    "import torch.utils.data as Data"
   ]
  },
  {
   "cell_type": "code",
   "execution_count": 2,
   "metadata": {},
   "outputs": [],
   "source": [
    "import yfinance as yf"
   ]
  },
  {
   "cell_type": "code",
   "execution_count": 3,
   "metadata": {},
   "outputs": [
    {
     "data": {
      "text/html": [
       "<div>\n",
       "<style scoped>\n",
       "    .dataframe tbody tr th:only-of-type {\n",
       "        vertical-align: middle;\n",
       "    }\n",
       "\n",
       "    .dataframe tbody tr th {\n",
       "        vertical-align: top;\n",
       "    }\n",
       "\n",
       "    .dataframe thead th {\n",
       "        text-align: right;\n",
       "    }\n",
       "</style>\n",
       "<table border=\"1\" class=\"dataframe\">\n",
       "  <thead>\n",
       "    <tr style=\"text-align: right;\">\n",
       "      <th></th>\n",
       "      <th>Date</th>\n",
       "      <th>Open</th>\n",
       "      <th>High</th>\n",
       "      <th>Low</th>\n",
       "      <th>Close</th>\n",
       "      <th>Volume</th>\n",
       "      <th>Dividends</th>\n",
       "      <th>Stock Splits</th>\n",
       "    </tr>\n",
       "  </thead>\n",
       "  <tbody>\n",
       "    <tr>\n",
       "      <th>0</th>\n",
       "      <td>2015-05-28</td>\n",
       "      <td>21.22</td>\n",
       "      <td>21.58</td>\n",
       "      <td>21.18</td>\n",
       "      <td>21.51</td>\n",
       "      <td>8191400</td>\n",
       "      <td>0.0</td>\n",
       "      <td>0</td>\n",
       "    </tr>\n",
       "    <tr>\n",
       "      <th>1</th>\n",
       "      <td>2015-05-29</td>\n",
       "      <td>21.51</td>\n",
       "      <td>21.65</td>\n",
       "      <td>21.47</td>\n",
       "      <td>21.50</td>\n",
       "      <td>8379200</td>\n",
       "      <td>0.0</td>\n",
       "      <td>0</td>\n",
       "    </tr>\n",
       "    <tr>\n",
       "      <th>2</th>\n",
       "      <td>2015-06-01</td>\n",
       "      <td>21.64</td>\n",
       "      <td>21.96</td>\n",
       "      <td>21.50</td>\n",
       "      <td>21.75</td>\n",
       "      <td>9316500</td>\n",
       "      <td>0.0</td>\n",
       "      <td>0</td>\n",
       "    </tr>\n",
       "    <tr>\n",
       "      <th>3</th>\n",
       "      <td>2015-06-02</td>\n",
       "      <td>21.61</td>\n",
       "      <td>21.73</td>\n",
       "      <td>21.30</td>\n",
       "      <td>21.32</td>\n",
       "      <td>5607600</td>\n",
       "      <td>0.0</td>\n",
       "      <td>0</td>\n",
       "    </tr>\n",
       "    <tr>\n",
       "      <th>4</th>\n",
       "      <td>2015-06-03</td>\n",
       "      <td>21.38</td>\n",
       "      <td>21.54</td>\n",
       "      <td>21.05</td>\n",
       "      <td>21.09</td>\n",
       "      <td>6269700</td>\n",
       "      <td>0.0</td>\n",
       "      <td>0</td>\n",
       "    </tr>\n",
       "    <tr>\n",
       "      <th>...</th>\n",
       "      <td>...</td>\n",
       "      <td>...</td>\n",
       "      <td>...</td>\n",
       "      <td>...</td>\n",
       "      <td>...</td>\n",
       "      <td>...</td>\n",
       "      <td>...</td>\n",
       "      <td>...</td>\n",
       "    </tr>\n",
       "    <tr>\n",
       "      <th>1254</th>\n",
       "      <td>2020-05-20</td>\n",
       "      <td>359.64</td>\n",
       "      <td>361.72</td>\n",
       "      <td>355.55</td>\n",
       "      <td>358.80</td>\n",
       "      <td>14688400</td>\n",
       "      <td>0.0</td>\n",
       "      <td>0</td>\n",
       "    </tr>\n",
       "    <tr>\n",
       "      <th>1255</th>\n",
       "      <td>2020-05-21</td>\n",
       "      <td>362.06</td>\n",
       "      <td>362.10</td>\n",
       "      <td>349.50</td>\n",
       "      <td>351.01</td>\n",
       "      <td>19026700</td>\n",
       "      <td>0.0</td>\n",
       "      <td>0</td>\n",
       "    </tr>\n",
       "    <tr>\n",
       "      <th>1256</th>\n",
       "      <td>2020-05-22</td>\n",
       "      <td>353.01</td>\n",
       "      <td>363.72</td>\n",
       "      <td>348.53</td>\n",
       "      <td>361.05</td>\n",
       "      <td>25969100</td>\n",
       "      <td>0.0</td>\n",
       "      <td>0</td>\n",
       "    </tr>\n",
       "    <tr>\n",
       "      <th>1257</th>\n",
       "      <td>2020-05-26</td>\n",
       "      <td>366.27</td>\n",
       "      <td>367.27</td>\n",
       "      <td>346.88</td>\n",
       "      <td>348.71</td>\n",
       "      <td>19269500</td>\n",
       "      <td>0.0</td>\n",
       "      <td>0</td>\n",
       "    </tr>\n",
       "    <tr>\n",
       "      <th>1258</th>\n",
       "      <td>2020-05-27</td>\n",
       "      <td>345.00</td>\n",
       "      <td>345.31</td>\n",
       "      <td>319.87</td>\n",
       "      <td>341.01</td>\n",
       "      <td>29366900</td>\n",
       "      <td>0.0</td>\n",
       "      <td>0</td>\n",
       "    </tr>\n",
       "  </tbody>\n",
       "</table>\n",
       "<p>1259 rows × 8 columns</p>\n",
       "</div>"
      ],
      "text/plain": [
       "            Date    Open    High     Low   Close    Volume  Dividends  \\\n",
       "0     2015-05-28   21.22   21.58   21.18   21.51   8191400        0.0   \n",
       "1     2015-05-29   21.51   21.65   21.47   21.50   8379200        0.0   \n",
       "2     2015-06-01   21.64   21.96   21.50   21.75   9316500        0.0   \n",
       "3     2015-06-02   21.61   21.73   21.30   21.32   5607600        0.0   \n",
       "4     2015-06-03   21.38   21.54   21.05   21.09   6269700        0.0   \n",
       "...          ...     ...     ...     ...     ...       ...        ...   \n",
       "1254  2020-05-20  359.64  361.72  355.55  358.80  14688400        0.0   \n",
       "1255  2020-05-21  362.06  362.10  349.50  351.01  19026700        0.0   \n",
       "1256  2020-05-22  353.01  363.72  348.53  361.05  25969100        0.0   \n",
       "1257  2020-05-26  366.27  367.27  346.88  348.71  19269500        0.0   \n",
       "1258  2020-05-27  345.00  345.31  319.87  341.01  29366900        0.0   \n",
       "\n",
       "      Stock Splits  \n",
       "0                0  \n",
       "1                0  \n",
       "2                0  \n",
       "3                0  \n",
       "4                0  \n",
       "...            ...  \n",
       "1254             0  \n",
       "1255             0  \n",
       "1256             0  \n",
       "1257             0  \n",
       "1258             0  \n",
       "\n",
       "[1259 rows x 8 columns]"
      ]
     },
     "execution_count": 3,
     "metadata": {},
     "output_type": "execute_result"
    }
   ],
   "source": [
    "data = pd.read_csv(\"NVDA.csv\")\n",
    "data"
   ]
  },
  {
   "cell_type": "code",
   "execution_count": 4,
   "metadata": {},
   "outputs": [
    {
     "data": {
      "text/plain": [
       "<matplotlib.axes._subplots.AxesSubplot at 0x25856cc0cc8>"
      ]
     },
     "execution_count": 4,
     "metadata": {},
     "output_type": "execute_result"
    },
    {
     "data": {
      "image/png": "[encoded data removed]",
      "text/plain": [
       "<Figure size 1152x648 with 1 Axes>"
      ]
     },
     "metadata": {
      "needs_background": "light"
     },
     "output_type": "display_data"
    }
   ],
   "source": [
    "data['Open'].plot(figsize=(16, 9))"
   ]
  },
  {
   "cell_type": "code",
   "execution_count": 5,
   "metadata": {},
   "outputs": [],
   "source": [
    "dataset_train = data\n",
    "training_set = dataset_train.iloc[:, 1:2].values"
   ]
  },
  {
   "cell_type": "code",
   "execution_count": 6,
   "metadata": {},
   "outputs": [
    {
     "data": {
      "text/plain": [
       "1259"
      ]
     },
     "execution_count": 6,
     "metadata": {},
     "output_type": "execute_result"
    }
   ],
   "source": [
    "len(training_set)"
   ]
  },
  {
   "cell_type": "code",
   "execution_count": 7,
   "metadata": {},
   "outputs": [],
   "source": [
    "sc = MinMaxScaler(feature_range = (0, 1))\n",
    "training_set_scaled = sc.fit_transform(training_set)"
   ]
  },
  {
   "cell_type": "code",
   "execution_count": 8,
   "metadata": {},
   "outputs": [],
   "source": [
    "X_train = []\n",
    "y_train = []\n",
    "for i in range(60, len(training_set)-200):\n",
    "    X_train.append(training_set_scaled[i-60:i, 0])\n",
    "    y_train.append(training_set_scaled[i, 0])\n",
    "X_train, y_train = torch.Tensor(X_train), torch.Tensor(y_train)"
   ]
  },
  {
   "cell_type": "code",
   "execution_count": 9,
   "metadata": {
    "scrolled": true
   },
   "outputs": [
    {
     "data": {
      "text/plain": [
       "torch.Size([999, 60])"
      ]
     },
     "execution_count": 9,
     "metadata": {},
     "output_type": "execute_result"
    }
   ],
   "source": [
    "X_train.shape"
   ]
  },
  {
   "cell_type": "code",
   "execution_count": 10,
   "metadata": {},
   "outputs": [],
   "source": [
    "y_train = y_train.reshape(1, len(X_train), -1)"
   ]
  },
  {
   "cell_type": "code",
   "execution_count": 11,
   "metadata": {},
   "outputs": [
    {
     "data": {
      "text/plain": [
       "torch.Size([1, 999, 1])"
      ]
     },
     "execution_count": 11,
     "metadata": {},
     "output_type": "execute_result"
    }
   ],
   "source": [
    "y_train.shape"
   ]
  },
  {
   "cell_type": "code",
   "execution_count": 12,
   "metadata": {},
   "outputs": [],
   "source": [
    "X_train = X_train.reshape(1, len(X_train), 60)"
   ]
  },
  {
   "cell_type": "code",
   "execution_count": 13,
   "metadata": {
    "scrolled": true
   },
   "outputs": [
    {
     "data": {
      "text/plain": [
       "torch.Size([1, 999, 60])"
      ]
     },
     "execution_count": 13,
     "metadata": {},
     "output_type": "execute_result"
    }
   ],
   "source": [
    "X_train.shape"
   ]
  },
  {
   "cell_type": "code",
   "execution_count": 14,
   "metadata": {},
   "outputs": [],
   "source": [
    "class LSTM(nn.Module):\n",
    "    def __init__(self, input_size, hidden_size):\n",
    "        super(LSTM, self).__init__()\n",
    "        \n",
    "        self.lstm = nn.LSTM(input_size=input_size, hidden_size=hidden_size, num_layers=4, dropout=0.1)\n",
    "        self.linear = nn.Linear(hidden_size, 1)\n",
    "    def forward(self, inputs):\n",
    "        output, hidden = self.lstm(inputs)\n",
    "        out = self.linear(output)\n",
    "        return(out)"
   ]
  },
  {
   "cell_type": "code",
   "execution_count": 15,
   "metadata": {},
   "outputs": [],
   "source": [
    "model = LSTM(60, 70)\n",
    "loss_function = nn.MSELoss()\n",
    "optimizer = torch.optim.Adam(model.parameters(), lr=0.001)"
   ]
  },
  {
   "cell_type": "code",
   "execution_count": 16,
   "metadata": {
    "scrolled": true
   },
   "outputs": [
    {
     "name": "stdout",
     "output_type": "stream",
     "text": [
      "LSTM(\n",
      "  (lstm): LSTM(60, 70, num_layers=4, dropout=0.1)\n",
      "  (linear): Linear(in_features=70, out_features=1, bias=True)\n",
      ")\n"
     ]
    }
   ],
   "source": [
    "print(model)"
   ]
  },
  {
   "cell_type": "code",
   "execution_count": 17,
   "metadata": {
    "scrolled": true
   },
   "outputs": [
    {
     "name": "stdout",
     "output_type": "stream",
     "text": [
      "Epoch:  1 | Loss:  0.1287308633327484\n",
      "Epoch:  11 | Loss:  0.09221161156892776\n",
      "Epoch:  21 | Loss:  0.04417209327220917\n",
      "Epoch:  31 | Loss:  0.031155044212937355\n",
      "Epoch:  41 | Loss:  0.02128908783197403\n",
      "Epoch:  51 | Loss:  0.014162207953631878\n",
      "Epoch:  61 | Loss:  0.009357592090964317\n",
      "Epoch:  71 | Loss:  0.006689202971756458\n",
      "Epoch:  81 | Loss:  0.005560555960983038\n",
      "Epoch:  91 | Loss:  0.004643918015062809\n",
      "Epoch:  101 | Loss:  0.0041538430377841\n",
      "Epoch:  111 | Loss:  0.0037123183719813824\n",
      "Epoch:  121 | Loss:  0.003305045422166586\n",
      "Epoch:  131 | Loss:  0.0027558444999158382\n",
      "Epoch:  141 | Loss:  0.00226081651635468\n",
      "Epoch:  151 | Loss:  0.0019915266893804073\n",
      "Epoch:  161 | Loss:  0.001603265991434455\n",
      "Epoch:  171 | Loss:  0.0017077818047255278\n",
      "Epoch:  181 | Loss:  0.001559047494083643\n",
      "Epoch:  191 | Loss:  0.001368089229799807\n",
      "Epoch:  201 | Loss:  0.0013778606662526727\n",
      "Epoch:  211 | Loss:  0.0013424111530184746\n",
      "Epoch:  221 | Loss:  0.0012420210987329483\n",
      "Epoch:  231 | Loss:  0.001245049643330276\n",
      "Epoch:  241 | Loss:  0.0011443692492321134\n",
      "Epoch:  251 | Loss:  0.0011614112881943583\n",
      "Epoch:  261 | Loss:  0.001146239577792585\n",
      "Epoch:  271 | Loss:  0.0009946860373020172\n",
      "Epoch:  281 | Loss:  0.000979823642410338\n",
      "Epoch:  291 | Loss:  0.0009556586155667901\n",
      "Epoch:  301 | Loss:  0.0010273086372762918\n",
      "Epoch:  311 | Loss:  0.0008889278979040682\n",
      "Epoch:  321 | Loss:  0.0008892774349078536\n",
      "Epoch:  331 | Loss:  0.0008970298804342747\n",
      "Epoch:  341 | Loss:  0.000794107501860708\n",
      "Epoch:  351 | Loss:  0.0008781787473708391\n",
      "Epoch:  361 | Loss:  0.0007971494342200458\n",
      "Epoch:  371 | Loss:  0.0008033024496398866\n",
      "Epoch:  381 | Loss:  0.0007400303147733212\n",
      "Epoch:  391 | Loss:  0.0007243341533467174\n",
      "Epoch:  401 | Loss:  0.0007828762754797935\n",
      "Epoch:  411 | Loss:  0.0007843596977181733\n",
      "Epoch:  421 | Loss:  0.0007782173925079405\n",
      "Epoch:  431 | Loss:  0.0007729451172053814\n",
      "Epoch:  441 | Loss:  0.0007527609122917056\n",
      "Epoch:  451 | Loss:  0.0006699353107251227\n",
      "Epoch:  461 | Loss:  0.0007075651665218174\n",
      "Epoch:  471 | Loss:  0.0007141018868423998\n",
      "Epoch:  481 | Loss:  0.000688294880092144\n",
      "Epoch:  491 | Loss:  0.0006573430146090686\n",
      "Epoch:  501 | Loss:  0.0007305943290702999\n",
      "Epoch:  511 | Loss:  0.0006817858084104955\n",
      "Epoch:  521 | Loss:  0.0006237615016289055\n",
      "Epoch:  531 | Loss:  0.0006669985596090555\n",
      "Epoch:  541 | Loss:  0.0006021176814101636\n",
      "Epoch:  551 | Loss:  0.0006055734120309353\n",
      "Epoch:  561 | Loss:  0.00065397605067119\n",
      "Epoch:  571 | Loss:  0.0006041945307515562\n",
      "Epoch:  581 | Loss:  0.0005515317316167057\n",
      "Epoch:  591 | Loss:  0.0005748353432863951\n",
      "Epoch:  601 | Loss:  0.0006175996968522668\n",
      "Epoch:  611 | Loss:  0.0006233855965547264\n",
      "Epoch:  621 | Loss:  0.0006310312892310321\n",
      "Epoch:  631 | Loss:  0.0005988436751067638\n",
      "Epoch:  641 | Loss:  0.000561595312319696\n",
      "Epoch:  651 | Loss:  0.0005550956120714545\n",
      "Epoch:  661 | Loss:  0.0005371700972318649\n",
      "Epoch:  671 | Loss:  0.0005618317518383265\n",
      "Epoch:  681 | Loss:  0.000575547746848315\n",
      "Epoch:  691 | Loss:  0.0005468245362862945\n",
      "Epoch:  701 | Loss:  0.0005775222089141607\n",
      "Epoch:  711 | Loss:  0.0005678674788214266\n",
      "Epoch:  721 | Loss:  0.0005917824455536902\n",
      "Epoch:  731 | Loss:  0.0005564427119679749\n",
      "Epoch:  741 | Loss:  0.0005659320740960538\n",
      "Epoch:  751 | Loss:  0.0005645299679599702\n",
      "Epoch:  761 | Loss:  0.000526402669493109\n",
      "Epoch:  771 | Loss:  0.0005419569788500667\n",
      "Epoch:  781 | Loss:  0.0005389623111113906\n",
      "Epoch:  791 | Loss:  0.0005167745985090733\n",
      "Epoch:  801 | Loss:  0.00050323735922575\n",
      "Epoch:  811 | Loss:  0.0004818140296265483\n",
      "Epoch:  821 | Loss:  0.0004924139939248562\n",
      "Epoch:  831 | Loss:  0.00048216295544989407\n",
      "Epoch:  841 | Loss:  0.0005175719270482659\n",
      "Epoch:  851 | Loss:  0.0005269077955745161\n",
      "Epoch:  861 | Loss:  0.0004955405020155013\n",
      "Epoch:  871 | Loss:  0.0004820213944185525\n",
      "Epoch:  881 | Loss:  0.000512769038323313\n",
      "Epoch:  891 | Loss:  0.0004667378671001643\n",
      "Epoch:  901 | Loss:  0.0005016422364860773\n",
      "Epoch:  911 | Loss:  0.0005046703736297786\n",
      "Epoch:  921 | Loss:  0.0005085744778625667\n",
      "Epoch:  931 | Loss:  0.0004837746382690966\n",
      "Epoch:  941 | Loss:  0.0004962848615832627\n",
      "Epoch:  951 | Loss:  0.00046506570652127266\n",
      "Epoch:  961 | Loss:  0.00045794533798471093\n",
      "Epoch:  971 | Loss:  0.0005230697570368648\n",
      "Epoch:  981 | Loss:  0.00046649223077110946\n",
      "Epoch:  991 | Loss:  0.0004747642669826746\n"
     ]
    }
   ],
   "source": [
    "n_epochs = 1000\n",
    "for epoch in range(n_epochs):\n",
    "    model.zero_grad()\n",
    "    y_pred = model(X_train)\n",
    "    loss= loss_function(y_pred, y_train)\n",
    "    loss.backward()\n",
    "    optimizer.step()\n",
    "    if epoch%10==0:\n",
    "        print(\"Epoch: \", epoch+1, \"| Loss: \", float(loss))"
   ]
  },
  {
   "cell_type": "markdown",
   "metadata": {},
   "source": [
    "## Test"
   ]
  },
  {
   "cell_type": "code",
   "execution_count": 18,
   "metadata": {},
   "outputs": [
    {
     "data": {
      "text/plain": [
       "200"
      ]
     },
     "execution_count": 18,
     "metadata": {},
     "output_type": "execute_result"
    }
   ],
   "source": [
    "# Getting the stock price of 2020\n",
    "dataset_test = pd.read_csv(\"NVDA.csv\")\n",
    "dataset_test = dataset_test.iloc[-200:]\n",
    "len(dataset_test)"
   ]
  },
  {
   "cell_type": "code",
   "execution_count": 19,
   "metadata": {},
   "outputs": [],
   "source": [
    "real_stock_price = dataset_test.iloc[:, 1:2].values"
   ]
  },
  {
   "cell_type": "code",
   "execution_count": 20,
   "metadata": {},
   "outputs": [],
   "source": [
    "dataset_total = pd.concat((dataset_train['Open'], dataset_test['Open']), axis = 0)\n",
    "inputs = dataset_total[len(dataset_total) - len(dataset_test) - 60:].values\n",
    "inputs = inputs.reshape(-1,1)\n",
    "inputs = sc.transform(inputs)\n",
    "X_test = []\n",
    "for i in range(60, len(inputs)):\n",
    "    X_test.append(inputs[i-60:i, 0])\n",
    "X_test = torch.Tensor(X_test)\n",
    "X_test = X_test.reshape(1, len(X_test), 60)\n",
    "predicted_stock_price = model(X_test)\n",
    "predicted_stock_price = torch.Tensor.cpu(predicted_stock_price).detach().numpy()[-1]\n",
    "predicted_stock_price = sc.inverse_transform(np.array(predicted_stock_price))"
   ]
  },
  {
   "cell_type": "code",
   "execution_count": 21,
   "metadata": {},
   "outputs": [
    {
     "data": {
      "image/png": "[encoded data removed]",
      "text/plain": [
       "<Figure size 432x288 with 1 Axes>"
      ]
     },
     "metadata": {
      "needs_background": "light"
     },
     "output_type": "display_data"
    }
   ],
   "source": [
    "plt.plot(real_stock_price, color = 'red', label = 'Real Nvidia Stock Price')\n",
    "plt.plot(predicted_stock_price, color = 'blue', label = 'Predicted Nvidia Stock Price')\n",
    "plt.title('Nvidia Stock Price Prediction')\n",
    "plt.xlabel('Time')\n",
    "plt.ylabel('Nvidia Stock Price')\n",
    "plt.legend()\n",
    "plt.show()"
   ]
  },
  {
   "cell_type": "code",
   "execution_count": null,
   "metadata": {},
   "outputs": [],
   "source": []
  }
 ],
 "metadata": {
  "kernelspec": {
   "display_name": "Python 3",
   "language": "python",
   "name": "python3"
  },
  "language_info": {
   "codemirror_mode": {
    "name": "ipython",
    "version": 3
   },
   "file_extension": ".py",
   "mimetype": "text/x-python",
   "name": "python",
   "nbconvert_exporter": "python",
   "pygments_lexer": "ipython3",
   "version": "3.7.7"
  }
 },
 "nbformat": 4,
 "nbformat_minor": 4
}
