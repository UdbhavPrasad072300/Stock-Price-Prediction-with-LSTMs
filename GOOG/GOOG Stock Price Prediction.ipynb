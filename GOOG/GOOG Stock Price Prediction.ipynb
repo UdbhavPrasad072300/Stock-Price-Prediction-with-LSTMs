{
 "cells": [
  {
   "cell_type": "markdown",
   "metadata": {},
   "source": [
    "# Predicting Stock Prices with Recurrent Neural Networks in TensorFlow"
   ]
  },
  {
   "cell_type": "markdown",
   "metadata": {},
   "source": [
    "Written by: Udbhav Prasad <br>\n",
    "Linkedin: https://www.linkedin.com/in/udbhav-prasad-1506b7192/ <br>\n",
    "HackerRank: https://www.hackerrank.com/uprasad1 <br>\n",
    "Github: https://github.com/UdbhavPrasad072300 <br>\n",
    "Computer Science Co-op - Ryerson University <br> <hr>"
   ]
  },
  {
   "cell_type": "code",
   "execution_count": 1,
   "metadata": {},
   "outputs": [],
   "source": [
    "import numpy as np\n",
    "import matplotlib.pyplot as plt\n",
    "import pandas as pd\n",
    "\n",
    "from sklearn.preprocessing import MinMaxScaler\n",
    "\n",
    "from tensorflow.keras.models import Sequential\n",
    "from tensorflow.keras.layers import Dense\n",
    "from tensorflow.keras.layers import LSTM\n",
    "from tensorflow.keras.layers import Dropout"
   ]
  },
  {
   "cell_type": "code",
   "execution_count": 2,
   "metadata": {},
   "outputs": [],
   "source": [
    "import yfinance as yf"
   ]
  },
  {
   "cell_type": "markdown",
   "metadata": {},
   "source": [
    "## Data Preprocessing"
   ]
  },
  {
   "cell_type": "code",
   "execution_count": 3,
   "metadata": {},
   "outputs": [],
   "source": [
    "goog = yf.Ticker(\"GOOG\")"
   ]
  },
  {
   "cell_type": "code",
   "execution_count": 4,
   "metadata": {},
   "outputs": [
    {
     "data": {
      "text/plain": [
       "{'zip': '94043',\n",
       " 'sector': 'Communication Services',\n",
       " 'fullTimeEmployees': 114096,\n",
       " 'longBusinessSummary': 'Alphabet Inc. provides online advertising services in the United States, Europe, the Middle East, Africa, the Asia-Pacific, Canada, and Latin America. It offers performance and brand advertising services. The company operates through Google and Other Bets segments. The Google segment offers products, such as Ads, Android, Chrome, Google Cloud, Google Maps, Google Play, Hardware, Search, and YouTube, as well as technical infrastructure. It also offers digital content, cloud services, hardware devices, and other miscellaneous products and services. The Other Bets segment includes businesses, including Access, Calico, CapitalG, GV, Verily, Waymo, and X, as well as Internet and television services. Alphabet Inc. was founded in 1998 and is headquartered in Mountain View, California.',\n",
       " 'city': 'Mountain View',\n",
       " 'phone': '650-253-0000',\n",
       " 'state': 'CA',\n",
       " 'country': 'United States',\n",
       " 'companyOfficers': [],\n",
       " 'website': 'http://www.abc.xyz',\n",
       " 'maxAge': 1,\n",
       " 'address1': '1600 Amphitheatre Parkway',\n",
       " 'industry': 'Internet Content & Information',\n",
       " 'previousClose': 1431.82,\n",
       " 'regularMarketOpen': 1430.55,\n",
       " 'twoHundredDayAverage': 1336.8524,\n",
       " 'trailingAnnualDividendYield': None,\n",
       " 'payoutRatio': 0,\n",
       " 'volume24Hr': None,\n",
       " 'regularMarketDayHigh': 1439.61,\n",
       " 'navPrice': None,\n",
       " 'averageDailyVolume10Day': 1628500,\n",
       " 'totalAssets': None,\n",
       " 'regularMarketPreviousClose': 1431.82,\n",
       " 'fiftyDayAverage': 1344.9487,\n",
       " 'trailingAnnualDividendRate': None,\n",
       " 'open': 1430.55,\n",
       " 'toCurrency': None,\n",
       " 'averageVolume10days': 1628500,\n",
       " 'expireDate': None,\n",
       " 'yield': None,\n",
       " 'algorithm': None,\n",
       " 'dividendRate': None,\n",
       " 'exDividendDate': None,\n",
       " 'beta': 1.018755,\n",
       " 'circulatingSupply': None,\n",
       " 'startDate': None,\n",
       " 'regularMarketDayLow': 1418.83,\n",
       " 'priceHint': 2,\n",
       " 'currency': 'USD',\n",
       " 'trailingPE': 30.883884,\n",
       " 'regularMarketVolume': 1278128,\n",
       " 'lastMarket': None,\n",
       " 'maxSupply': None,\n",
       " 'openInterest': None,\n",
       " 'marketCap': 983511072768,\n",
       " 'volumeAllCurrencies': None,\n",
       " 'strikePrice': None,\n",
       " 'averageVolume': 2338637,\n",
       " 'priceToSalesTrailing12Months': 6.3428593,\n",
       " 'dayLow': 1418.83,\n",
       " 'ask': 0,\n",
       " 'ytdReturn': None,\n",
       " 'askSize': 800,\n",
       " 'volume': 1278128,\n",
       " 'fiftyTwoWeekHigh': 1532.106,\n",
       " 'forwardPE': 26.07755,\n",
       " 'fromCurrency': None,\n",
       " 'fiveYearAvgDividendYield': None,\n",
       " 'fiftyTwoWeekLow': 1013.536,\n",
       " 'bid': 1434.41,\n",
       " 'tradeable': False,\n",
       " 'dividendYield': None,\n",
       " 'bidSize': 1300,\n",
       " 'dayHigh': 1439.61,\n",
       " 'exchange': 'NMS',\n",
       " 'shortName': 'Alphabet Inc.',\n",
       " 'longName': 'Alphabet Inc.',\n",
       " 'exchangeTimezoneName': 'America/New_York',\n",
       " 'exchangeTimezoneShortName': 'EDT',\n",
       " 'isEsgPopulated': False,\n",
       " 'gmtOffSetMilliseconds': '-14400000',\n",
       " 'quoteType': 'EQUITY',\n",
       " 'symbol': 'GOOG',\n",
       " 'messageBoardId': 'finmb_29096',\n",
       " 'market': 'us_market',\n",
       " 'annualHoldingsTurnover': None,\n",
       " 'enterpriseToRevenue': 5.49,\n",
       " 'beta3Year': None,\n",
       " 'profitMargins': 0.21037000000000003,\n",
       " 'enterpriseToEbitda': 19.316,\n",
       " '52WeekChange': 0.38091767,\n",
       " 'morningStarRiskRating': None,\n",
       " 'forwardEps': 55.19,\n",
       " 'revenueQuarterlyGrowth': None,\n",
       " 'sharesOutstanding': 336161984,\n",
       " 'fundInceptionDate': None,\n",
       " 'annualReportExpenseRatio': None,\n",
       " 'bookValue': 282.193,\n",
       " 'sharesShort': 3462105,\n",
       " 'sharesPercentSharesOut': 0.0050999997,\n",
       " 'fundFamily': None,\n",
       " 'lastFiscalYearEnd': 1546214400,\n",
       " 'heldPercentInstitutions': 0.7062,\n",
       " 'netIncomeToCommon': 32619999232,\n",
       " 'trailingEps': 46.601,\n",
       " 'lastDividendValue': None,\n",
       " 'SandP52WeekChange': 0.09011209,\n",
       " 'priceToBook': 5.1001267,\n",
       " 'heldPercentInsiders': 0.057460000000000004,\n",
       " 'nextFiscalYearEnd': 1609372800,\n",
       " 'mostRecentQuarter': 1569801600,\n",
       " 'shortRatio': 1.83,\n",
       " 'sharesShortPreviousMonthDate': 1586908800,\n",
       " 'floatShares': 617980645,\n",
       " 'enterpriseValue': 851237339136,\n",
       " 'threeYearAverageReturn': None,\n",
       " 'lastSplitDate': 1430092800,\n",
       " 'lastSplitFactor': '10000000:10000000',\n",
       " 'legalType': None,\n",
       " 'morningStarOverallRating': None,\n",
       " 'earningsQuarterlyGrowth': -0.231,\n",
       " 'dateShortInterest': 1589500800,\n",
       " 'pegRatio': 4.42,\n",
       " 'lastCapGain': None,\n",
       " 'shortPercentOfFloat': None,\n",
       " 'sharesShortPriorMonth': 4105056,\n",
       " 'category': None,\n",
       " 'fiveYearAverageReturn': None,\n",
       " 'regularMarketPrice': 1430.55,\n",
       " 'logo_url': 'https://logo.clearbit.com/abc.xyz'}"
      ]
     },
     "execution_count": 4,
     "metadata": {},
     "output_type": "execute_result"
    }
   ],
   "source": [
    "goog.info"
   ]
  },
  {
   "cell_type": "code",
   "execution_count": 5,
   "metadata": {},
   "outputs": [],
   "source": [
    "hist = goog.history(period=\"5Y\")"
   ]
  },
  {
   "cell_type": "code",
   "execution_count": 6,
   "metadata": {
    "scrolled": false
   },
   "outputs": [
    {
     "data": {
      "text/plain": [
       "<matplotlib.axes._subplots.AxesSubplot at 0x182406f39c8>"
      ]
     },
     "execution_count": 6,
     "metadata": {},
     "output_type": "execute_result"
    },
    {
     "data": {
      "image/png": "[encoded data removed]",
      "text/plain": [
       "<Figure size 1152x648 with 1 Axes>"
      ]
     },
     "metadata": {
      "needs_background": "light"
     },
     "output_type": "display_data"
    }
   ],
   "source": [
    "hist['Close'].plot(figsize=(16, 9))"
   ]
  },
  {
   "cell_type": "code",
   "execution_count": 7,
   "metadata": {},
   "outputs": [],
   "source": [
    "hist.to_csv('GOOG.csv')"
   ]
  },
  {
   "cell_type": "markdown",
   "metadata": {},
   "source": [
    "Importing Training Set"
   ]
  },
  {
   "cell_type": "code",
   "execution_count": 8,
   "metadata": {},
   "outputs": [],
   "source": [
    "dataset_train = hist\n",
    "training_set = dataset_train.iloc[:, 1:2].values"
   ]
  },
  {
   "cell_type": "code",
   "execution_count": 9,
   "metadata": {},
   "outputs": [
    {
     "data": {
      "text/plain": [
       "1259"
      ]
     },
     "execution_count": 9,
     "metadata": {},
     "output_type": "execute_result"
    }
   ],
   "source": [
    "len(training_set)"
   ]
  },
  {
   "cell_type": "markdown",
   "metadata": {},
   "source": [
    "Feature Scaling (Normalizing)"
   ]
  },
  {
   "cell_type": "code",
   "execution_count": 10,
   "metadata": {},
   "outputs": [],
   "source": [
    "sc = MinMaxScaler(feature_range = (0, 1))\n",
    "training_set_scaled = sc.fit_transform(training_set)"
   ]
  },
  {
   "cell_type": "markdown",
   "metadata": {},
   "source": [
    "Creating a data structure with 60 timesteps and 1 output"
   ]
  },
  {
   "cell_type": "code",
   "execution_count": 11,
   "metadata": {},
   "outputs": [],
   "source": [
    "X_train = []\n",
    "y_train = []\n",
    "for i in range(60, len(training_set)-200):\n",
    "    X_train.append(training_set_scaled[i-60:i, 0])\n",
    "    y_train.append(training_set_scaled[i, 0])\n",
    "X_train, y_train = np.array(X_train), np.array(y_train)"
   ]
  },
  {
   "cell_type": "markdown",
   "metadata": {},
   "source": [
    "Reshaping"
   ]
  },
  {
   "cell_type": "code",
   "execution_count": 12,
   "metadata": {},
   "outputs": [],
   "source": [
    "X_train = np.reshape(X_train, (X_train.shape[0], X_train.shape[1], 1))"
   ]
  },
  {
   "cell_type": "markdown",
   "metadata": {},
   "source": [
    "## Building Recurrent Neural Network"
   ]
  },
  {
   "cell_type": "markdown",
   "metadata": {},
   "source": [
    "Initializing Sequential Network"
   ]
  },
  {
   "cell_type": "code",
   "execution_count": 13,
   "metadata": {},
   "outputs": [],
   "source": [
    "regressor = Sequential()"
   ]
  },
  {
   "cell_type": "code",
   "execution_count": 14,
   "metadata": {},
   "outputs": [],
   "source": [
    "regressor.add(LSTM(units = 50, return_sequences = True, input_shape = (X_train.shape[1], 1)))\n",
    "regressor.add(Dropout(0.2))"
   ]
  },
  {
   "cell_type": "code",
   "execution_count": 15,
   "metadata": {},
   "outputs": [],
   "source": [
    "regressor.add(LSTM(units = 50, return_sequences = True))\n",
    "regressor.add(Dropout(0.2))"
   ]
  },
  {
   "cell_type": "code",
   "execution_count": 16,
   "metadata": {},
   "outputs": [],
   "source": [
    "regressor.add(LSTM(units = 50, return_sequences = True))\n",
    "regressor.add(Dropout(0.2))"
   ]
  },
  {
   "cell_type": "code",
   "execution_count": 17,
   "metadata": {},
   "outputs": [],
   "source": [
    "regressor.add(LSTM(units = 50))\n",
    "regressor.add(Dropout(0.2))"
   ]
  },
  {
   "cell_type": "code",
   "execution_count": 18,
   "metadata": {},
   "outputs": [],
   "source": [
    "regressor.add(Dense(units = 1))"
   ]
  },
  {
   "cell_type": "markdown",
   "metadata": {},
   "source": [
    "Compiling Recurrent Neural Network"
   ]
  },
  {
   "cell_type": "code",
   "execution_count": 19,
   "metadata": {},
   "outputs": [],
   "source": [
    "regressor.compile(optimizer = 'adam', loss = 'mean_squared_error')"
   ]
  },
  {
   "cell_type": "markdown",
   "metadata": {},
   "source": [
    "Training Recurrent Neural Network"
   ]
  },
  {
   "cell_type": "code",
   "execution_count": 20,
   "metadata": {
    "scrolled": true
   },
   "outputs": [
    {
     "name": "stdout",
     "output_type": "stream",
     "text": [
      "Train on 999 samples\n",
      "Epoch 1/100\n",
      "999/999 [==============================] - 6s 6ms/sample - loss: 0.0253\n",
      "Epoch 2/100\n",
      "999/999 [==============================] - 0s 376us/sample - loss: 0.0052\n",
      "Epoch 3/100\n",
      "999/999 [==============================] - 0s 378us/sample - loss: 0.0037\n",
      "Epoch 4/100\n",
      "999/999 [==============================] - 0s 377us/sample - loss: 0.0032\n",
      "Epoch 5/100\n",
      "999/999 [==============================] - 0s 377us/sample - loss: 0.0030\n",
      "Epoch 6/100\n",
      "999/999 [==============================] - 0s 382us/sample - loss: 0.0031\n",
      "Epoch 7/100\n",
      "999/999 [==============================] - 0s 375us/sample - loss: 0.0032\n",
      "Epoch 8/100\n",
      "999/999 [==============================] - 0s 374us/sample - loss: 0.0032\n",
      "Epoch 9/100\n",
      "999/999 [==============================] - 0s 379us/sample - loss: 0.0027\n",
      "Epoch 10/100\n",
      "999/999 [==============================] - 0s 381us/sample - loss: 0.0026\n",
      "Epoch 11/100\n",
      "999/999 [==============================] - 0s 380us/sample - loss: 0.0033\n",
      "Epoch 12/100\n",
      "999/999 [==============================] - 0s 379us/sample - loss: 0.0028\n",
      "Epoch 13/100\n",
      "999/999 [==============================] - 0s 379us/sample - loss: 0.0029\n",
      "Epoch 14/100\n",
      "999/999 [==============================] - 0s 377us/sample - loss: 0.0029\n",
      "Epoch 15/100\n",
      "999/999 [==============================] - 0s 374us/sample - loss: 0.0026\n",
      "Epoch 16/100\n",
      "999/999 [==============================] - 0s 380us/sample - loss: 0.0028\n",
      "Epoch 17/100\n",
      "999/999 [==============================] - 0s 378us/sample - loss: 0.0031\n",
      "Epoch 18/100\n",
      "999/999 [==============================] - 0s 376us/sample - loss: 0.0023\n",
      "Epoch 19/100\n",
      "999/999 [==============================] - 0s 379us/sample - loss: 0.0024\n",
      "Epoch 20/100\n",
      "999/999 [==============================] - 0s 377us/sample - loss: 0.0024\n",
      "Epoch 21/100\n",
      "999/999 [==============================] - 0s 384us/sample - loss: 0.0022\n",
      "Epoch 22/100\n",
      "999/999 [==============================] - 0s 383us/sample - loss: 0.0026\n",
      "Epoch 23/100\n",
      "999/999 [==============================] - 0s 380us/sample - loss: 0.0024\n",
      "Epoch 24/100\n",
      "999/999 [==============================] - 0s 381us/sample - loss: 0.0026\n",
      "Epoch 25/100\n",
      "999/999 [==============================] - 0s 375us/sample - loss: 0.0021\n",
      "Epoch 26/100\n",
      "999/999 [==============================] - 0s 376us/sample - loss: 0.0021\n",
      "Epoch 27/100\n",
      "999/999 [==============================] - 0s 378us/sample - loss: 0.0021\n",
      "Epoch 28/100\n",
      "999/999 [==============================] - 0s 378us/sample - loss: 0.0022\n",
      "Epoch 29/100\n",
      "999/999 [==============================] - 0s 378us/sample - loss: 0.0019\n",
      "Epoch 30/100\n",
      "999/999 [==============================] - 0s 379us/sample - loss: 0.0021\n",
      "Epoch 31/100\n",
      "999/999 [==============================] - 0s 381us/sample - loss: 0.0020\n",
      "Epoch 32/100\n",
      "999/999 [==============================] - 0s 384us/sample - loss: 0.0021\n",
      "Epoch 33/100\n",
      "999/999 [==============================] - 0s 380us/sample - loss: 0.0020\n",
      "Epoch 34/100\n",
      "999/999 [==============================] - 0s 378us/sample - loss: 0.0019\n",
      "Epoch 35/100\n",
      "999/999 [==============================] - 0s 379us/sample - loss: 0.0020\n",
      "Epoch 36/100\n",
      "999/999 [==============================] - 0s 379us/sample - loss: 0.0022\n",
      "Epoch 37/100\n",
      "999/999 [==============================] - 0s 377us/sample - loss: 0.0017\n",
      "Epoch 38/100\n",
      "999/999 [==============================] - 0s 376us/sample - loss: 0.0017\n",
      "Epoch 39/100\n",
      "999/999 [==============================] - 0s 377us/sample - loss: 0.0018\n",
      "Epoch 40/100\n",
      "999/999 [==============================] - 0s 380us/sample - loss: 0.0017\n",
      "Epoch 41/100\n",
      "999/999 [==============================] - 0s 379us/sample - loss: 0.0016\n",
      "Epoch 42/100\n",
      "999/999 [==============================] - 0s 380us/sample - loss: 0.0018\n",
      "Epoch 43/100\n",
      "999/999 [==============================] - 0s 380us/sample - loss: 0.0019\n",
      "Epoch 44/100\n",
      "999/999 [==============================] - 0s 379us/sample - loss: 0.0017\n",
      "Epoch 45/100\n",
      "999/999 [==============================] - 0s 377us/sample - loss: 0.0017\n",
      "Epoch 46/100\n",
      "999/999 [==============================] - 0s 384us/sample - loss: 0.0015\n",
      "Epoch 47/100\n",
      "999/999 [==============================] - 0s 379us/sample - loss: 0.0017\n",
      "Epoch 48/100\n",
      "999/999 [==============================] - 0s 377us/sample - loss: 0.0018\n",
      "Epoch 49/100\n",
      "999/999 [==============================] - 0s 379us/sample - loss: 0.0015\n",
      "Epoch 50/100\n",
      "999/999 [==============================] - 0s 379us/sample - loss: 0.0018\n",
      "Epoch 51/100\n",
      "999/999 [==============================] - 0s 378us/sample - loss: 0.0018\n",
      "Epoch 52/100\n",
      "999/999 [==============================] - 0s 382us/sample - loss: 0.0015\n",
      "Epoch 53/100\n",
      "999/999 [==============================] - 0s 383us/sample - loss: 0.0015\n",
      "Epoch 54/100\n",
      "999/999 [==============================] - 0s 382us/sample - loss: 0.0014\n",
      "Epoch 55/100\n",
      "999/999 [==============================] - 0s 381us/sample - loss: 0.0015\n",
      "Epoch 56/100\n",
      "999/999 [==============================] - 0s 377us/sample - loss: 0.0016\n",
      "Epoch 57/100\n",
      "999/999 [==============================] - 0s 382us/sample - loss: 0.0014\n",
      "Epoch 58/100\n",
      "999/999 [==============================] - 0s 382us/sample - loss: 0.0016\n",
      "Epoch 59/100\n",
      "999/999 [==============================] - 0s 378us/sample - loss: 0.0014\n",
      "Epoch 60/100\n",
      "999/999 [==============================] - 0s 378us/sample - loss: 0.0013\n",
      "Epoch 61/100\n",
      "999/999 [==============================] - 0s 376us/sample - loss: 0.0014\n",
      "Epoch 62/100\n",
      "999/999 [==============================] - 0s 376us/sample - loss: 0.0015\n",
      "Epoch 63/100\n",
      "999/999 [==============================] - 0s 380us/sample - loss: 0.0014\n",
      "Epoch 64/100\n",
      "999/999 [==============================] - 0s 381us/sample - loss: 0.0014\n",
      "Epoch 65/100\n",
      "999/999 [==============================] - 0s 379us/sample - loss: 0.0014\n",
      "Epoch 66/100\n",
      "999/999 [==============================] - 0s 376us/sample - loss: 0.0013\n",
      "Epoch 67/100\n",
      "999/999 [==============================] - 0s 378us/sample - loss: 0.0011\n",
      "Epoch 68/100\n",
      "999/999 [==============================] - 0s 378us/sample - loss: 0.0011\n",
      "Epoch 69/100\n",
      "999/999 [==============================] - 0s 379us/sample - loss: 0.0012\n",
      "Epoch 70/100\n",
      "999/999 [==============================] - 0s 377us/sample - loss: 0.0012\n",
      "Epoch 71/100\n",
      "999/999 [==============================] - 0s 376us/sample - loss: 0.0011\n",
      "Epoch 72/100\n",
      "999/999 [==============================] - 0s 382us/sample - loss: 0.0011\n",
      "Epoch 73/100\n",
      "999/999 [==============================] - 0s 392us/sample - loss: 9.7849e-04\n",
      "Epoch 74/100\n",
      "999/999 [==============================] - 0s 377us/sample - loss: 0.0010s - loss: 0.\n",
      "Epoch 75/100\n",
      "999/999 [==============================] - 0s 384us/sample - loss: 0.0011\n",
      "Epoch 76/100\n",
      "999/999 [==============================] - 0s 381us/sample - loss: 0.0011\n",
      "Epoch 77/100\n",
      "999/999 [==============================] - 0s 379us/sample - loss: 0.0011\n",
      "Epoch 78/100\n",
      "999/999 [==============================] - 0s 380us/sample - loss: 0.0011\n",
      "Epoch 79/100\n",
      "999/999 [==============================] - 0s 386us/sample - loss: 0.0012\n",
      "Epoch 80/100\n",
      "999/999 [==============================] - 0s 379us/sample - loss: 9.5839e-04\n",
      "Epoch 81/100\n",
      "999/999 [==============================] - 0s 379us/sample - loss: 0.0011\n",
      "Epoch 82/100\n",
      "999/999 [==============================] - 0s 384us/sample - loss: 0.0010\n",
      "Epoch 83/100\n",
      "999/999 [==============================] - 0s 381us/sample - loss: 9.2230e-04\n",
      "Epoch 84/100\n",
      "999/999 [==============================] - 0s 381us/sample - loss: 8.8670e-04\n",
      "Epoch 85/100\n",
      "999/999 [==============================] - 0s 385us/sample - loss: 8.9679e-04\n",
      "Epoch 86/100\n",
      "999/999 [==============================] - 0s 382us/sample - loss: 9.1593e-04\n",
      "Epoch 87/100\n",
      "999/999 [==============================] - 0s 379us/sample - loss: 9.1126e-04\n",
      "Epoch 88/100\n",
      "999/999 [==============================] - 0s 386us/sample - loss: 9.7692e-04\n",
      "Epoch 89/100\n",
      "999/999 [==============================] - 0s 378us/sample - loss: 9.4508e-04\n",
      "Epoch 90/100\n",
      "999/999 [==============================] - 0s 378us/sample - loss: 8.8915e-04\n",
      "Epoch 91/100\n",
      "999/999 [==============================] - 0s 376us/sample - loss: 9.2723e-04\n",
      "Epoch 92/100\n",
      "999/999 [==============================] - 0s 378us/sample - loss: 8.9755e-04\n",
      "Epoch 93/100\n",
      "999/999 [==============================] - 0s 378us/sample - loss: 9.3051e-04\n",
      "Epoch 94/100\n"
     ]
    },
    {
     "name": "stdout",
     "output_type": "stream",
     "text": [
      "999/999 [==============================] - 0s 378us/sample - loss: 8.7520e-04\n",
      "Epoch 95/100\n",
      "999/999 [==============================] - 0s 377us/sample - loss: 9.8369e-04s - loss: 0.0010 \n",
      "Epoch 96/100\n",
      "999/999 [==============================] - 0s 378us/sample - loss: 9.3232e-04\n",
      "Epoch 97/100\n",
      "999/999 [==============================] - 0s 379us/sample - loss: 8.7595e-04\n",
      "Epoch 98/100\n",
      "999/999 [==============================] - 0s 380us/sample - loss: 8.2732e-04\n",
      "Epoch 99/100\n",
      "999/999 [==============================] - 0s 374us/sample - loss: 7.6671e-04\n",
      "Epoch 100/100\n",
      "999/999 [==============================] - 0s 377us/sample - loss: 8.5513e-04\n"
     ]
    }
   ],
   "source": [
    "history = regressor.fit(X_train, y_train, epochs = 100, batch_size = 32)"
   ]
  },
  {
   "cell_type": "markdown",
   "metadata": {},
   "source": [
    "## Predictions and Visualizations"
   ]
  },
  {
   "cell_type": "code",
   "execution_count": 21,
   "metadata": {},
   "outputs": [
    {
     "data": {
      "text/plain": [
       "200"
      ]
     },
     "execution_count": 21,
     "metadata": {},
     "output_type": "execute_result"
    }
   ],
   "source": [
    "# Getting the stock price of 2020\n",
    "dataset_test = pd.read_csv(\"GOOG.csv\")\n",
    "dataset_test = dataset_test.iloc[-200:]\n",
    "len(dataset_test)"
   ]
  },
  {
   "cell_type": "code",
   "execution_count": 22,
   "metadata": {
    "scrolled": true
   },
   "outputs": [],
   "source": [
    "real_stock_price = dataset_test.iloc[:, 1:2].values"
   ]
  },
  {
   "cell_type": "code",
   "execution_count": 23,
   "metadata": {},
   "outputs": [
    {
     "name": "stdout",
     "output_type": "stream",
     "text": [
      "<class 'numpy.ndarray'>\n"
     ]
    }
   ],
   "source": [
    "dataset_total = pd.concat((dataset_train['Open'], dataset_test['Open']), axis = 0)\n",
    "inputs = dataset_total[len(dataset_total) - len(dataset_test) - 60:].values\n",
    "inputs = inputs.reshape(-1,1)\n",
    "inputs = sc.transform(inputs)\n",
    "X_test = []\n",
    "for i in range(60, len(inputs)):\n",
    "    X_test.append(inputs[i-60:i, 0])\n",
    "X_test = np.array(X_test)\n",
    "X_test = np.reshape(X_test, (X_test.shape[0], X_test.shape[1], 1))\n",
    "predicted_stock_price = regressor.predict(X_test)\n",
    "print(type(predicted_stock_price))\n",
    "predicted_stock_price = sc.inverse_transform(predicted_stock_price)"
   ]
  },
  {
   "cell_type": "markdown",
   "metadata": {},
   "source": [
    "## Plotting"
   ]
  },
  {
   "cell_type": "code",
   "execution_count": 24,
   "metadata": {},
   "outputs": [
    {
     "data": {
      "image/png": "[encoded data removed]",
      "text/plain": [
       "<Figure size 432x288 with 1 Axes>"
      ]
     },
     "metadata": {
      "needs_background": "light"
     },
     "output_type": "display_data"
    }
   ],
   "source": [
    "plt.plot(real_stock_price, color = 'red', label = 'Real Google Stock Price')\n",
    "plt.plot(predicted_stock_price, color = 'blue', label = 'Predicted Google Stock Price')\n",
    "plt.title('Google Stock Price Prediction')\n",
    "plt.xlabel('Time')\n",
    "plt.ylabel('Google Stock Price')\n",
    "plt.legend()\n",
    "plt.show()"
   ]
  },
  {
   "cell_type": "code",
   "execution_count": null,
   "metadata": {},
   "outputs": [],
   "source": []
  }
 ],
 "metadata": {
  "kernelspec": {
   "display_name": "Python 3",
   "language": "python",
   "name": "python3"
  },
  "language_info": {
   "codemirror_mode": {
    "name": "ipython",
    "version": 3
   },
   "file_extension": ".py",
   "mimetype": "text/x-python",
   "name": "python",
   "nbconvert_exporter": "python",
   "pygments_lexer": "ipython3",
   "version": "3.7.7"
  }
 },
 "nbformat": 4,
 "nbformat_minor": 4
}
