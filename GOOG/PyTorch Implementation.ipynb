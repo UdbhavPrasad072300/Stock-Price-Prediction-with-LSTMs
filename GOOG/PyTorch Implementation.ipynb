{
 "cells": [
  {
   "cell_type": "code",
   "execution_count": 1,
   "metadata": {},
   "outputs": [],
   "source": [
    "import numpy as np\n",
    "import matplotlib.pyplot as plt\n",
    "import pandas as pd\n",
    "\n",
    "from sklearn.preprocessing import MinMaxScaler\n",
    "\n",
    "import torch\n",
    "import torch.nn as nn\n",
    "import torch.utils.data as Data\n",
    "\n",
    "from torchsummary import summary"
   ]
  },
  {
   "cell_type": "code",
   "execution_count": 2,
   "metadata": {},
   "outputs": [],
   "source": [
    "import yfinance as yf"
   ]
  },
  {
   "cell_type": "code",
   "execution_count": 3,
   "metadata": {},
   "outputs": [
    {
     "name": "stdout",
     "output_type": "stream",
     "text": [
      "cuda\n"
     ]
    }
   ],
   "source": [
    "device = torch.device(\"cuda\" if torch.cuda.is_available() else \"cpu\")\n",
    "print(device)"
   ]
  },
  {
   "cell_type": "code",
   "execution_count": 4,
   "metadata": {},
   "outputs": [
    {
     "data": {
      "text/html": [
       "<div>\n",
       "<style scoped>\n",
       "    .dataframe tbody tr th:only-of-type {\n",
       "        vertical-align: middle;\n",
       "    }\n",
       "\n",
       "    .dataframe tbody tr th {\n",
       "        vertical-align: top;\n",
       "    }\n",
       "\n",
       "    .dataframe thead th {\n",
       "        text-align: right;\n",
       "    }\n",
       "</style>\n",
       "<table border=\"1\" class=\"dataframe\">\n",
       "  <thead>\n",
       "    <tr style=\"text-align: right;\">\n",
       "      <th></th>\n",
       "      <th>Date</th>\n",
       "      <th>Open</th>\n",
       "      <th>High</th>\n",
       "      <th>Low</th>\n",
       "      <th>Close</th>\n",
       "      <th>Volume</th>\n",
       "      <th>Dividends</th>\n",
       "      <th>Stock Splits</th>\n",
       "    </tr>\n",
       "  </thead>\n",
       "  <tbody>\n",
       "    <tr>\n",
       "      <th>0</th>\n",
       "      <td>2015-06-03</td>\n",
       "      <td>539.91</td>\n",
       "      <td>543.50</td>\n",
       "      <td>537.11</td>\n",
       "      <td>540.31</td>\n",
       "      <td>1717000</td>\n",
       "      <td>0</td>\n",
       "      <td>0</td>\n",
       "    </tr>\n",
       "    <tr>\n",
       "      <th>1</th>\n",
       "      <td>2015-06-04</td>\n",
       "      <td>537.76</td>\n",
       "      <td>540.59</td>\n",
       "      <td>534.32</td>\n",
       "      <td>536.70</td>\n",
       "      <td>1348300</td>\n",
       "      <td>0</td>\n",
       "      <td>0</td>\n",
       "    </tr>\n",
       "    <tr>\n",
       "      <th>2</th>\n",
       "      <td>2015-06-05</td>\n",
       "      <td>536.35</td>\n",
       "      <td>537.20</td>\n",
       "      <td>532.52</td>\n",
       "      <td>533.33</td>\n",
       "      <td>1388200</td>\n",
       "      <td>0</td>\n",
       "      <td>0</td>\n",
       "    </tr>\n",
       "    <tr>\n",
       "      <th>3</th>\n",
       "      <td>2015-06-08</td>\n",
       "      <td>533.31</td>\n",
       "      <td>534.12</td>\n",
       "      <td>526.24</td>\n",
       "      <td>526.83</td>\n",
       "      <td>1520600</td>\n",
       "      <td>0</td>\n",
       "      <td>0</td>\n",
       "    </tr>\n",
       "    <tr>\n",
       "      <th>4</th>\n",
       "      <td>2015-06-09</td>\n",
       "      <td>527.56</td>\n",
       "      <td>529.20</td>\n",
       "      <td>523.01</td>\n",
       "      <td>526.69</td>\n",
       "      <td>1455300</td>\n",
       "      <td>0</td>\n",
       "      <td>0</td>\n",
       "    </tr>\n",
       "    <tr>\n",
       "      <th>...</th>\n",
       "      <td>...</td>\n",
       "      <td>...</td>\n",
       "      <td>...</td>\n",
       "      <td>...</td>\n",
       "      <td>...</td>\n",
       "      <td>...</td>\n",
       "      <td>...</td>\n",
       "      <td>...</td>\n",
       "    </tr>\n",
       "    <tr>\n",
       "      <th>1254</th>\n",
       "      <td>2020-05-27</td>\n",
       "      <td>1417.25</td>\n",
       "      <td>1421.74</td>\n",
       "      <td>1391.29</td>\n",
       "      <td>1417.84</td>\n",
       "      <td>1685800</td>\n",
       "      <td>0</td>\n",
       "      <td>0</td>\n",
       "    </tr>\n",
       "    <tr>\n",
       "      <th>1255</th>\n",
       "      <td>2020-05-28</td>\n",
       "      <td>1396.86</td>\n",
       "      <td>1440.84</td>\n",
       "      <td>1396.00</td>\n",
       "      <td>1416.73</td>\n",
       "      <td>1692200</td>\n",
       "      <td>0</td>\n",
       "      <td>0</td>\n",
       "    </tr>\n",
       "    <tr>\n",
       "      <th>1256</th>\n",
       "      <td>2020-05-29</td>\n",
       "      <td>1416.94</td>\n",
       "      <td>1432.57</td>\n",
       "      <td>1413.35</td>\n",
       "      <td>1428.92</td>\n",
       "      <td>1838100</td>\n",
       "      <td>0</td>\n",
       "      <td>0</td>\n",
       "    </tr>\n",
       "    <tr>\n",
       "      <th>1257</th>\n",
       "      <td>2020-06-01</td>\n",
       "      <td>1418.39</td>\n",
       "      <td>1437.96</td>\n",
       "      <td>1418.00</td>\n",
       "      <td>1431.82</td>\n",
       "      <td>1217100</td>\n",
       "      <td>0</td>\n",
       "      <td>0</td>\n",
       "    </tr>\n",
       "    <tr>\n",
       "      <th>1258</th>\n",
       "      <td>2020-06-02</td>\n",
       "      <td>1430.55</td>\n",
       "      <td>1439.61</td>\n",
       "      <td>1418.83</td>\n",
       "      <td>1439.22</td>\n",
       "      <td>1277200</td>\n",
       "      <td>0</td>\n",
       "      <td>0</td>\n",
       "    </tr>\n",
       "  </tbody>\n",
       "</table>\n",
       "<p>1259 rows × 8 columns</p>\n",
       "</div>"
      ],
      "text/plain": [
       "            Date     Open     High      Low    Close   Volume  Dividends  \\\n",
       "0     2015-06-03   539.91   543.50   537.11   540.31  1717000          0   \n",
       "1     2015-06-04   537.76   540.59   534.32   536.70  1348300          0   \n",
       "2     2015-06-05   536.35   537.20   532.52   533.33  1388200          0   \n",
       "3     2015-06-08   533.31   534.12   526.24   526.83  1520600          0   \n",
       "4     2015-06-09   527.56   529.20   523.01   526.69  1455300          0   \n",
       "...          ...      ...      ...      ...      ...      ...        ...   \n",
       "1254  2020-05-27  1417.25  1421.74  1391.29  1417.84  1685800          0   \n",
       "1255  2020-05-28  1396.86  1440.84  1396.00  1416.73  1692200          0   \n",
       "1256  2020-05-29  1416.94  1432.57  1413.35  1428.92  1838100          0   \n",
       "1257  2020-06-01  1418.39  1437.96  1418.00  1431.82  1217100          0   \n",
       "1258  2020-06-02  1430.55  1439.61  1418.83  1439.22  1277200          0   \n",
       "\n",
       "      Stock Splits  \n",
       "0                0  \n",
       "1                0  \n",
       "2                0  \n",
       "3                0  \n",
       "4                0  \n",
       "...            ...  \n",
       "1254             0  \n",
       "1255             0  \n",
       "1256             0  \n",
       "1257             0  \n",
       "1258             0  \n",
       "\n",
       "[1259 rows x 8 columns]"
      ]
     },
     "execution_count": 4,
     "metadata": {},
     "output_type": "execute_result"
    }
   ],
   "source": [
    "data = pd.read_csv(\"GOOG.csv\")\n",
    "data"
   ]
  },
  {
   "cell_type": "code",
   "execution_count": 5,
   "metadata": {},
   "outputs": [
    {
     "data": {
      "text/plain": [
       "<matplotlib.axes._subplots.AxesSubplot at 0x1f1ff91ce48>"
      ]
     },
     "execution_count": 5,
     "metadata": {},
     "output_type": "execute_result"
    },
    {
     "data": {
      "image/png": "[encoded data removed]",
      "text/plain": [
       "<Figure size 1152x648 with 1 Axes>"
      ]
     },
     "metadata": {
      "needs_background": "light"
     },
     "output_type": "display_data"
    }
   ],
   "source": [
    "data['Open'].plot(figsize=(16, 9))"
   ]
  },
  {
   "cell_type": "code",
   "execution_count": 6,
   "metadata": {},
   "outputs": [],
   "source": [
    "dataset_train = data\n",
    "training_set = dataset_train.iloc[:, 1:2].values"
   ]
  },
  {
   "cell_type": "code",
   "execution_count": 7,
   "metadata": {},
   "outputs": [
    {
     "data": {
      "text/plain": [
       "1259"
      ]
     },
     "execution_count": 7,
     "metadata": {},
     "output_type": "execute_result"
    }
   ],
   "source": [
    "len(training_set)"
   ]
  },
  {
   "cell_type": "code",
   "execution_count": 8,
   "metadata": {},
   "outputs": [],
   "source": [
    "sc = MinMaxScaler(feature_range = (0, 1))\n",
    "training_set_scaled = sc.fit_transform(training_set)"
   ]
  },
  {
   "cell_type": "code",
   "execution_count": 9,
   "metadata": {},
   "outputs": [],
   "source": [
    "X_train = []\n",
    "y_train = []\n",
    "for i in range(60, len(training_set)-200):\n",
    "    X_train.append(training_set_scaled[i-60:i, 0])\n",
    "    y_train.append(training_set_scaled[i, 0])\n",
    "X_train, y_train = torch.Tensor(X_train), torch.Tensor(y_train)"
   ]
  },
  {
   "cell_type": "code",
   "execution_count": 10,
   "metadata": {
    "scrolled": true
   },
   "outputs": [
    {
     "data": {
      "text/plain": [
       "torch.Size([999, 60])"
      ]
     },
     "execution_count": 10,
     "metadata": {},
     "output_type": "execute_result"
    }
   ],
   "source": [
    "X_train.shape"
   ]
  },
  {
   "cell_type": "code",
   "execution_count": 11,
   "metadata": {},
   "outputs": [],
   "source": [
    "y_train = y_train.reshape(1, len(X_train), -1)"
   ]
  },
  {
   "cell_type": "code",
   "execution_count": 12,
   "metadata": {},
   "outputs": [
    {
     "data": {
      "text/plain": [
       "torch.Size([1, 999, 1])"
      ]
     },
     "execution_count": 12,
     "metadata": {},
     "output_type": "execute_result"
    }
   ],
   "source": [
    "y_train.shape"
   ]
  },
  {
   "cell_type": "code",
   "execution_count": 13,
   "metadata": {},
   "outputs": [],
   "source": [
    "X_train = X_train.reshape(1, len(X_train), 60)"
   ]
  },
  {
   "cell_type": "code",
   "execution_count": 14,
   "metadata": {
    "scrolled": true
   },
   "outputs": [
    {
     "data": {
      "text/plain": [
       "torch.Size([1, 999, 60])"
      ]
     },
     "execution_count": 14,
     "metadata": {},
     "output_type": "execute_result"
    }
   ],
   "source": [
    "X_train.shape"
   ]
  },
  {
   "cell_type": "code",
   "execution_count": 15,
   "metadata": {},
   "outputs": [],
   "source": [
    "class LSTM(nn.Module):\n",
    "    def __init__(self, input_size, hidden_size):\n",
    "        super(LSTM, self).__init__()\n",
    "        \n",
    "        self.lstm = nn.LSTM(input_size=input_size, hidden_size=hidden_size, num_layers=4, dropout=0.1)\n",
    "        self.linear = nn.Linear(hidden_size, 1)\n",
    "    def forward(self, inputs):\n",
    "        output, hidden = self.lstm(inputs)\n",
    "        out = self.linear(output)\n",
    "        return(out)"
   ]
  },
  {
   "cell_type": "code",
   "execution_count": 16,
   "metadata": {},
   "outputs": [],
   "source": [
    "model = LSTM(60, 70)\n",
    "loss_function = nn.MSELoss()\n",
    "optimizer = torch.optim.Adam(model.parameters(), lr=0.001)"
   ]
  },
  {
   "cell_type": "code",
   "execution_count": 17,
   "metadata": {
    "scrolled": false
   },
   "outputs": [
    {
     "data": {
      "text/plain": [
       "LSTM(\n",
       "  (lstm): LSTM(60, 70, num_layers=4, dropout=0.1)\n",
       "  (linear): Linear(in_features=70, out_features=1, bias=True)\n",
       ")"
      ]
     },
     "execution_count": 17,
     "metadata": {},
     "output_type": "execute_result"
    }
   ],
   "source": [
    "model.to(device)"
   ]
  },
  {
   "cell_type": "code",
   "execution_count": 18,
   "metadata": {},
   "outputs": [
    {
     "data": {
      "text/plain": [
       "device(type='cuda', index=0)"
      ]
     },
     "execution_count": 18,
     "metadata": {},
     "output_type": "execute_result"
    }
   ],
   "source": [
    "X_train = X_train.to(device)\n",
    "X_train.device"
   ]
  },
  {
   "cell_type": "code",
   "execution_count": 19,
   "metadata": {
    "scrolled": true
   },
   "outputs": [
    {
     "data": {
      "text/plain": [
       "device(type='cuda', index=0)"
      ]
     },
     "execution_count": 19,
     "metadata": {},
     "output_type": "execute_result"
    }
   ],
   "source": [
    "y_train = y_train.to(device)\n",
    "y_train.device"
   ]
  },
  {
   "cell_type": "code",
   "execution_count": 20,
   "metadata": {
    "scrolled": true
   },
   "outputs": [
    {
     "name": "stdout",
     "output_type": "stream",
     "text": [
      "Epoch:  1 | Loss:  0.15619565546512604\n",
      "Epoch:  11 | Loss:  0.11219118535518646\n",
      "Epoch:  21 | Loss:  0.05816468596458435\n",
      "Epoch:  31 | Loss:  0.022311458364129066\n",
      "Epoch:  41 | Loss:  0.01774149015545845\n",
      "Epoch:  51 | Loss:  0.014728335663676262\n",
      "Epoch:  61 | Loss:  0.011129629798233509\n",
      "Epoch:  71 | Loss:  0.007504912558943033\n",
      "Epoch:  81 | Loss:  0.005403898656368256\n",
      "Epoch:  91 | Loss:  0.0044236015528440475\n",
      "Epoch:  101 | Loss:  0.0038148192688822746\n",
      "Epoch:  111 | Loss:  0.003813692834228277\n",
      "Epoch:  121 | Loss:  0.0032748684752732515\n",
      "Epoch:  131 | Loss:  0.003470237599685788\n",
      "Epoch:  141 | Loss:  0.0029389422852545977\n",
      "Epoch:  151 | Loss:  0.002930505434051156\n",
      "Epoch:  161 | Loss:  0.0027143817860633135\n",
      "Epoch:  171 | Loss:  0.0024812750052660704\n",
      "Epoch:  181 | Loss:  0.002466346835717559\n",
      "Epoch:  191 | Loss:  0.002266399096697569\n",
      "Epoch:  201 | Loss:  0.0022595305927097797\n",
      "Epoch:  211 | Loss:  0.00209670327603817\n",
      "Epoch:  221 | Loss:  0.0017759909387677908\n",
      "Epoch:  231 | Loss:  0.0018355672946199775\n",
      "Epoch:  241 | Loss:  0.0016147417481988668\n",
      "Epoch:  251 | Loss:  0.0017006108537316322\n",
      "Epoch:  261 | Loss:  0.0016662606503814459\n",
      "Epoch:  271 | Loss:  0.0015553162666037679\n",
      "Epoch:  281 | Loss:  0.0014375974424183369\n",
      "Epoch:  291 | Loss:  0.0014492212794721127\n",
      "Epoch:  301 | Loss:  0.0014330861158668995\n",
      "Epoch:  311 | Loss:  0.0013382055331021547\n",
      "Epoch:  321 | Loss:  0.0012966750655323267\n",
      "Epoch:  331 | Loss:  0.001337722409516573\n",
      "Epoch:  341 | Loss:  0.001231816248036921\n",
      "Epoch:  351 | Loss:  0.001175660640001297\n",
      "Epoch:  361 | Loss:  0.0011496316874399781\n",
      "Epoch:  371 | Loss:  0.001205115462653339\n",
      "Epoch:  381 | Loss:  0.0010916427709162235\n",
      "Epoch:  391 | Loss:  0.001177112222649157\n",
      "Epoch:  401 | Loss:  0.0010667777387425303\n",
      "Epoch:  411 | Loss:  0.0010390334064140916\n",
      "Epoch:  421 | Loss:  0.0011209953809157014\n",
      "Epoch:  431 | Loss:  0.0009545128559693694\n",
      "Epoch:  441 | Loss:  0.0010366553906351328\n",
      "Epoch:  451 | Loss:  0.000963235623203218\n",
      "Epoch:  461 | Loss:  0.0009589314577169716\n",
      "Epoch:  471 | Loss:  0.001012813881970942\n",
      "Epoch:  481 | Loss:  0.0009415831882506609\n",
      "Epoch:  491 | Loss:  0.0009472966194152832\n",
      "Epoch:  501 | Loss:  0.0008957050740718842\n",
      "Epoch:  511 | Loss:  0.0008752503199502826\n",
      "Epoch:  521 | Loss:  0.0008888805168680847\n",
      "Epoch:  531 | Loss:  0.0008835892658680677\n",
      "Epoch:  541 | Loss:  0.0008751269779168069\n",
      "Epoch:  551 | Loss:  0.0008365481626242399\n",
      "Epoch:  561 | Loss:  0.0008727906388230622\n",
      "Epoch:  571 | Loss:  0.0008822878589853644\n",
      "Epoch:  581 | Loss:  0.0007940931827761233\n",
      "Epoch:  591 | Loss:  0.0008237025467678905\n",
      "Epoch:  601 | Loss:  0.0008141385624185205\n",
      "Epoch:  611 | Loss:  0.0007586351130157709\n",
      "Epoch:  621 | Loss:  0.0007848248933441937\n",
      "Epoch:  631 | Loss:  0.0007788928342051804\n",
      "Epoch:  641 | Loss:  0.0007578035583719611\n",
      "Epoch:  651 | Loss:  0.0007941554649733007\n",
      "Epoch:  661 | Loss:  0.000785373616963625\n",
      "Epoch:  671 | Loss:  0.0007646120502613485\n",
      "Epoch:  681 | Loss:  0.0006695417687296867\n",
      "Epoch:  691 | Loss:  0.0006966277142055333\n",
      "Epoch:  701 | Loss:  0.0007515918696299195\n",
      "Epoch:  711 | Loss:  0.000702417572028935\n",
      "Epoch:  721 | Loss:  0.0006681717932224274\n",
      "Epoch:  731 | Loss:  0.0006788413156755269\n",
      "Epoch:  741 | Loss:  0.0007270808564499021\n",
      "Epoch:  751 | Loss:  0.0006807820755057037\n",
      "Epoch:  761 | Loss:  0.0006653672899119556\n",
      "Epoch:  771 | Loss:  0.0006454437389038503\n",
      "Epoch:  781 | Loss:  0.0006527935620397329\n",
      "Epoch:  791 | Loss:  0.0006510905222967267\n",
      "Epoch:  801 | Loss:  0.0006204350502230227\n",
      "Epoch:  811 | Loss:  0.0006092061521485448\n",
      "Epoch:  821 | Loss:  0.0006033895770087838\n",
      "Epoch:  831 | Loss:  0.0005475727375596762\n",
      "Epoch:  841 | Loss:  0.0006267817225307226\n",
      "Epoch:  851 | Loss:  0.0005942240240983665\n",
      "Epoch:  861 | Loss:  0.0005808593123219907\n",
      "Epoch:  871 | Loss:  0.0005521756247617304\n",
      "Epoch:  881 | Loss:  0.0005943477735854685\n",
      "Epoch:  891 | Loss:  0.0006109577370807528\n",
      "Epoch:  901 | Loss:  0.0006074015982449055\n",
      "Epoch:  911 | Loss:  0.000561958528123796\n",
      "Epoch:  921 | Loss:  0.00058713712496683\n",
      "Epoch:  931 | Loss:  0.0005598723655566573\n",
      "Epoch:  941 | Loss:  0.0005497025558724999\n",
      "Epoch:  951 | Loss:  0.0005820256774313748\n",
      "Epoch:  961 | Loss:  0.0005354988388717175\n",
      "Epoch:  971 | Loss:  0.0005321918870322406\n",
      "Epoch:  981 | Loss:  0.0005424994160421193\n",
      "Epoch:  991 | Loss:  0.0005408217548392713\n"
     ]
    }
   ],
   "source": [
    "n_epochs = 1000\n",
    "for epoch in range(n_epochs):\n",
    "    model.zero_grad()\n",
    "    y_pred = model(X_train)\n",
    "    loss= loss_function(y_pred, y_train)\n",
    "    loss.backward()\n",
    "    optimizer.step()\n",
    "    if epoch%10==0:\n",
    "        print(\"Epoch: \", epoch+1, \"| Loss: \", float(loss))"
   ]
  },
  {
   "cell_type": "code",
   "execution_count": 21,
   "metadata": {},
   "outputs": [
    {
     "data": {
      "text/plain": [
       "LSTM(\n",
       "  (lstm): LSTM(60, 70, num_layers=4, dropout=0.1)\n",
       "  (linear): Linear(in_features=70, out_features=1, bias=True)\n",
       ")"
      ]
     },
     "execution_count": 21,
     "metadata": {},
     "output_type": "execute_result"
    }
   ],
   "source": [
    "model.to(\"cpu\")"
   ]
  },
  {
   "cell_type": "markdown",
   "metadata": {},
   "source": [
    "## Test"
   ]
  },
  {
   "cell_type": "code",
   "execution_count": 22,
   "metadata": {},
   "outputs": [
    {
     "data": {
      "text/plain": [
       "200"
      ]
     },
     "execution_count": 22,
     "metadata": {},
     "output_type": "execute_result"
    }
   ],
   "source": [
    "# Getting the stock price of 2020\n",
    "dataset_test = pd.read_csv(\"GOOG.csv\")\n",
    "dataset_test = dataset_test.iloc[-200:]\n",
    "len(dataset_test)"
   ]
  },
  {
   "cell_type": "code",
   "execution_count": 23,
   "metadata": {},
   "outputs": [],
   "source": [
    "real_stock_price = dataset_test.iloc[:, 1:2].values"
   ]
  },
  {
   "cell_type": "code",
   "execution_count": 24,
   "metadata": {},
   "outputs": [],
   "source": [
    "dataset_total = pd.concat((dataset_train['Open'], dataset_test['Open']), axis = 0)\n",
    "inputs = dataset_total[len(dataset_total) - len(dataset_test) - 60:].values\n",
    "inputs = inputs.reshape(-1,1)\n",
    "inputs = sc.transform(inputs)\n",
    "X_test = []\n",
    "for i in range(60, len(inputs)):\n",
    "    X_test.append(inputs[i-60:i, 0])\n",
    "X_test = torch.Tensor(X_test)\n",
    "X_test = X_test.reshape(1, len(X_test), 60)\n",
    "predicted_stock_price = model(X_test)\n",
    "predicted_stock_price = torch.Tensor.cpu(predicted_stock_price).detach().numpy()[-1]\n",
    "predicted_stock_price = sc.inverse_transform(np.array(predicted_stock_price))"
   ]
  },
  {
   "cell_type": "code",
   "execution_count": 25,
   "metadata": {},
   "outputs": [
    {
     "data": {
      "image/png": "[encoded data removed]",
      "text/plain": [
       "<Figure size 432x288 with 1 Axes>"
      ]
     },
     "metadata": {
      "needs_background": "light"
     },
     "output_type": "display_data"
    }
   ],
   "source": [
    "plt.plot(real_stock_price, color = 'red', label = 'Real Google Stock Price')\n",
    "plt.plot(predicted_stock_price, color = 'blue', label = 'Predicted Google Stock Price')\n",
    "plt.title('Google Stock Price Prediction')\n",
    "plt.xlabel('Time')\n",
    "plt.ylabel('Google Stock Price')\n",
    "plt.legend()\n",
    "plt.show()"
   ]
  },
  {
   "cell_type": "code",
   "execution_count": null,
   "metadata": {},
   "outputs": [],
   "source": []
  }
 ],
 "metadata": {
  "kernelspec": {
   "display_name": "Python 3",
   "language": "python",
   "name": "python3"
  },
  "language_info": {
   "codemirror_mode": {
    "name": "ipython",
    "version": 3
   },
   "file_extension": ".py",
   "mimetype": "text/x-python",
   "name": "python",
   "nbconvert_exporter": "python",
   "pygments_lexer": "ipython3",
   "version": "3.7.7"
  }
 },
 "nbformat": 4,
 "nbformat_minor": 4
}
