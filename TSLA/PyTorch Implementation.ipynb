{
 "cells": [
  {
   "cell_type": "code",
   "execution_count": 1,
   "metadata": {},
   "outputs": [],
   "source": [
    "import numpy as np\n",
    "import matplotlib.pyplot as plt\n",
    "import pandas as pd\n",
    "\n",
    "from sklearn.preprocessing import MinMaxScaler\n",
    "\n",
    "import torch\n",
    "import torch.nn as nn\n",
    "from torch.nn import functional as F\n",
    "import torch.utils.data as Data\n",
    "\n",
    "from torchsummary import summary"
   ]
  },
  {
   "cell_type": "code",
   "execution_count": 2,
   "metadata": {},
   "outputs": [],
   "source": [
    "import yfinance as yf"
   ]
  },
  {
   "cell_type": "code",
   "execution_count": 3,
   "metadata": {},
   "outputs": [
    {
     "name": "stdout",
     "output_type": "stream",
     "text": [
      "cuda\n"
     ]
    }
   ],
   "source": [
    "device = torch.device(\"cuda\" if torch.cuda.is_available() else \"cpu\")\n",
    "print(device)"
   ]
  },
  {
   "cell_type": "code",
   "execution_count": 4,
   "metadata": {},
   "outputs": [
    {
     "data": {
      "text/html": [
       "<div>\n",
       "<style scoped>\n",
       "    .dataframe tbody tr th:only-of-type {\n",
       "        vertical-align: middle;\n",
       "    }\n",
       "\n",
       "    .dataframe tbody tr th {\n",
       "        vertical-align: top;\n",
       "    }\n",
       "\n",
       "    .dataframe thead th {\n",
       "        text-align: right;\n",
       "    }\n",
       "</style>\n",
       "<table border=\"1\" class=\"dataframe\">\n",
       "  <thead>\n",
       "    <tr style=\"text-align: right;\">\n",
       "      <th></th>\n",
       "      <th>Date</th>\n",
       "      <th>Open</th>\n",
       "      <th>High</th>\n",
       "      <th>Low</th>\n",
       "      <th>Close</th>\n",
       "      <th>Volume</th>\n",
       "      <th>Dividends</th>\n",
       "      <th>Stock Splits</th>\n",
       "    </tr>\n",
       "  </thead>\n",
       "  <tbody>\n",
       "    <tr>\n",
       "      <th>0</th>\n",
       "      <td>2015-10-19</td>\n",
       "      <td>45.30</td>\n",
       "      <td>46.23</td>\n",
       "      <td>44.99</td>\n",
       "      <td>45.62</td>\n",
       "      <td>12539500</td>\n",
       "      <td>0</td>\n",
       "      <td>0.0</td>\n",
       "    </tr>\n",
       "    <tr>\n",
       "      <th>1</th>\n",
       "      <td>2015-10-20</td>\n",
       "      <td>45.54</td>\n",
       "      <td>45.72</td>\n",
       "      <td>40.40</td>\n",
       "      <td>42.61</td>\n",
       "      <td>74500000</td>\n",
       "      <td>0</td>\n",
       "      <td>0.0</td>\n",
       "    </tr>\n",
       "    <tr>\n",
       "      <th>2</th>\n",
       "      <td>2015-10-21</td>\n",
       "      <td>42.40</td>\n",
       "      <td>42.96</td>\n",
       "      <td>41.76</td>\n",
       "      <td>42.02</td>\n",
       "      <td>20757500</td>\n",
       "      <td>0</td>\n",
       "      <td>0.0</td>\n",
       "    </tr>\n",
       "    <tr>\n",
       "      <th>3</th>\n",
       "      <td>2015-10-22</td>\n",
       "      <td>42.31</td>\n",
       "      <td>43.15</td>\n",
       "      <td>41.88</td>\n",
       "      <td>42.34</td>\n",
       "      <td>14126000</td>\n",
       "      <td>0</td>\n",
       "      <td>0.0</td>\n",
       "    </tr>\n",
       "    <tr>\n",
       "      <th>4</th>\n",
       "      <td>2015-10-23</td>\n",
       "      <td>43.00</td>\n",
       "      <td>43.07</td>\n",
       "      <td>41.54</td>\n",
       "      <td>41.82</td>\n",
       "      <td>21177500</td>\n",
       "      <td>0</td>\n",
       "      <td>0.0</td>\n",
       "    </tr>\n",
       "    <tr>\n",
       "      <th>...</th>\n",
       "      <td>...</td>\n",
       "      <td>...</td>\n",
       "      <td>...</td>\n",
       "      <td>...</td>\n",
       "      <td>...</td>\n",
       "      <td>...</td>\n",
       "      <td>...</td>\n",
       "      <td>...</td>\n",
       "    </tr>\n",
       "    <tr>\n",
       "      <th>1254</th>\n",
       "      <td>2020-10-12</td>\n",
       "      <td>442.00</td>\n",
       "      <td>448.74</td>\n",
       "      <td>438.58</td>\n",
       "      <td>442.30</td>\n",
       "      <td>38791100</td>\n",
       "      <td>0</td>\n",
       "      <td>0.0</td>\n",
       "    </tr>\n",
       "    <tr>\n",
       "      <th>1255</th>\n",
       "      <td>2020-10-13</td>\n",
       "      <td>443.35</td>\n",
       "      <td>448.89</td>\n",
       "      <td>436.60</td>\n",
       "      <td>446.65</td>\n",
       "      <td>34463700</td>\n",
       "      <td>0</td>\n",
       "      <td>0.0</td>\n",
       "    </tr>\n",
       "    <tr>\n",
       "      <th>1256</th>\n",
       "      <td>2020-10-14</td>\n",
       "      <td>449.78</td>\n",
       "      <td>465.90</td>\n",
       "      <td>447.35</td>\n",
       "      <td>461.30</td>\n",
       "      <td>48045400</td>\n",
       "      <td>0</td>\n",
       "      <td>0.0</td>\n",
       "    </tr>\n",
       "    <tr>\n",
       "      <th>1257</th>\n",
       "      <td>2020-10-15</td>\n",
       "      <td>450.31</td>\n",
       "      <td>456.57</td>\n",
       "      <td>442.50</td>\n",
       "      <td>448.88</td>\n",
       "      <td>35554200</td>\n",
       "      <td>0</td>\n",
       "      <td>0.0</td>\n",
       "    </tr>\n",
       "    <tr>\n",
       "      <th>1258</th>\n",
       "      <td>2020-10-16</td>\n",
       "      <td>454.44</td>\n",
       "      <td>455.95</td>\n",
       "      <td>438.85</td>\n",
       "      <td>439.67</td>\n",
       "      <td>31713967</td>\n",
       "      <td>0</td>\n",
       "      <td>0.0</td>\n",
       "    </tr>\n",
       "  </tbody>\n",
       "</table>\n",
       "<p>1259 rows × 8 columns</p>\n",
       "</div>"
      ],
      "text/plain": [
       "            Date    Open    High     Low   Close    Volume  Dividends  \\\n",
       "0     2015-10-19   45.30   46.23   44.99   45.62  12539500          0   \n",
       "1     2015-10-20   45.54   45.72   40.40   42.61  74500000          0   \n",
       "2     2015-10-21   42.40   42.96   41.76   42.02  20757500          0   \n",
       "3     2015-10-22   42.31   43.15   41.88   42.34  14126000          0   \n",
       "4     2015-10-23   43.00   43.07   41.54   41.82  21177500          0   \n",
       "...          ...     ...     ...     ...     ...       ...        ...   \n",
       "1254  2020-10-12  442.00  448.74  438.58  442.30  38791100          0   \n",
       "1255  2020-10-13  443.35  448.89  436.60  446.65  34463700          0   \n",
       "1256  2020-10-14  449.78  465.90  447.35  461.30  48045400          0   \n",
       "1257  2020-10-15  450.31  456.57  442.50  448.88  35554200          0   \n",
       "1258  2020-10-16  454.44  455.95  438.85  439.67  31713967          0   \n",
       "\n",
       "      Stock Splits  \n",
       "0              0.0  \n",
       "1              0.0  \n",
       "2              0.0  \n",
       "3              0.0  \n",
       "4              0.0  \n",
       "...            ...  \n",
       "1254           0.0  \n",
       "1255           0.0  \n",
       "1256           0.0  \n",
       "1257           0.0  \n",
       "1258           0.0  \n",
       "\n",
       "[1259 rows x 8 columns]"
      ]
     },
     "execution_count": 4,
     "metadata": {},
     "output_type": "execute_result"
    }
   ],
   "source": [
    "data = pd.read_csv(\"TSLA.csv\")\n",
    "data"
   ]
  },
  {
   "cell_type": "code",
   "execution_count": 5,
   "metadata": {},
   "outputs": [
    {
     "data": {
      "text/plain": [
       "<AxesSubplot:>"
      ]
     },
     "execution_count": 5,
     "metadata": {},
     "output_type": "execute_result"
    },
    {
     "data": {
      "image/png": "[encoded data removed]",
      "text/plain": [
       "<Figure size 1152x648 with 1 Axes>"
      ]
     },
     "metadata": {
      "needs_background": "light"
     },
     "output_type": "display_data"
    }
   ],
   "source": [
    "data['Open'].plot(figsize=(16, 9))"
   ]
  },
  {
   "cell_type": "code",
   "execution_count": 6,
   "metadata": {},
   "outputs": [],
   "source": [
    "dataset_train = data\n",
    "training_set = dataset_train.iloc[:, 1:2].values"
   ]
  },
  {
   "cell_type": "code",
   "execution_count": 7,
   "metadata": {},
   "outputs": [
    {
     "data": {
      "text/plain": [
       "1259"
      ]
     },
     "execution_count": 7,
     "metadata": {},
     "output_type": "execute_result"
    }
   ],
   "source": [
    "len(training_set)"
   ]
  },
  {
   "cell_type": "code",
   "execution_count": 8,
   "metadata": {},
   "outputs": [],
   "source": [
    "sc = MinMaxScaler(feature_range = (0, 1))\n",
    "training_set_scaled = sc.fit_transform(training_set)"
   ]
  },
  {
   "cell_type": "code",
   "execution_count": 9,
   "metadata": {},
   "outputs": [],
   "source": [
    "X_train = []\n",
    "y_train = []\n",
    "for i in range(60, len(training_set)-200):\n",
    "    X_train.append(training_set_scaled[i-60:i, 0])\n",
    "    y_train.append(training_set_scaled[i, 0])\n",
    "X_train, y_train = torch.Tensor(X_train), torch.Tensor(y_train)"
   ]
  },
  {
   "cell_type": "code",
   "execution_count": 10,
   "metadata": {
    "scrolled": true
   },
   "outputs": [
    {
     "data": {
      "text/plain": [
       "torch.Size([999, 60])"
      ]
     },
     "execution_count": 10,
     "metadata": {},
     "output_type": "execute_result"
    }
   ],
   "source": [
    "X_train.shape"
   ]
  },
  {
   "cell_type": "code",
   "execution_count": 11,
   "metadata": {},
   "outputs": [],
   "source": [
    "y_train = y_train.reshape(1, len(X_train), -1)"
   ]
  },
  {
   "cell_type": "code",
   "execution_count": 12,
   "metadata": {},
   "outputs": [
    {
     "data": {
      "text/plain": [
       "torch.Size([1, 999, 1])"
      ]
     },
     "execution_count": 12,
     "metadata": {},
     "output_type": "execute_result"
    }
   ],
   "source": [
    "y_train.shape"
   ]
  },
  {
   "cell_type": "code",
   "execution_count": 13,
   "metadata": {},
   "outputs": [],
   "source": [
    "X_train = X_train.reshape(1, len(X_train), 60)"
   ]
  },
  {
   "cell_type": "code",
   "execution_count": 14,
   "metadata": {
    "scrolled": true
   },
   "outputs": [
    {
     "data": {
      "text/plain": [
       "torch.Size([1, 999, 60])"
      ]
     },
     "execution_count": 14,
     "metadata": {},
     "output_type": "execute_result"
    }
   ],
   "source": [
    "X_train.shape"
   ]
  },
  {
   "cell_type": "code",
   "execution_count": 15,
   "metadata": {},
   "outputs": [],
   "source": [
    "class LSTM(nn.Module):\n",
    "    def __init__(self, input_size, hidden_size):\n",
    "        super(LSTM, self).__init__()\n",
    "        \n",
    "        self.lstm = nn.LSTM(input_size=input_size, hidden_size=hidden_size, num_layers=4, dropout=0.2)\n",
    "        self.linear = nn.Linear(hidden_size, 1)\n",
    "    def forward(self, inputs):\n",
    "        output, hidden = self.lstm(inputs)\n",
    "        out = self.linear(output)\n",
    "        return(out)"
   ]
  },
  {
   "cell_type": "code",
   "execution_count": 16,
   "metadata": {},
   "outputs": [],
   "source": [
    "model = LSTM(60, 70)\n",
    "loss_function = nn.MSELoss()\n",
    "optimizer = torch.optim.Adam(model.parameters(), lr=0.001)"
   ]
  },
  {
   "cell_type": "code",
   "execution_count": 17,
   "metadata": {
    "scrolled": false
   },
   "outputs": [
    {
     "data": {
      "text/plain": [
       "LSTM(\n",
       "  (lstm): LSTM(60, 70, num_layers=4, dropout=0.2)\n",
       "  (linear): Linear(in_features=70, out_features=1, bias=True)\n",
       ")"
      ]
     },
     "execution_count": 17,
     "metadata": {},
     "output_type": "execute_result"
    }
   ],
   "source": [
    "model.to(device)"
   ]
  },
  {
   "cell_type": "code",
   "execution_count": 18,
   "metadata": {},
   "outputs": [
    {
     "data": {
      "text/plain": [
       "device(type='cuda', index=0)"
      ]
     },
     "execution_count": 18,
     "metadata": {},
     "output_type": "execute_result"
    }
   ],
   "source": [
    "X_train = X_train.to(device)\n",
    "X_train.device"
   ]
  },
  {
   "cell_type": "code",
   "execution_count": 19,
   "metadata": {
    "scrolled": true
   },
   "outputs": [
    {
     "data": {
      "text/plain": [
       "device(type='cuda', index=0)"
      ]
     },
     "execution_count": 19,
     "metadata": {},
     "output_type": "execute_result"
    }
   ],
   "source": [
    "y_train = y_train.to(device)\n",
    "y_train.device"
   ]
  },
  {
   "cell_type": "code",
   "execution_count": 20,
   "metadata": {
    "scrolled": true
   },
   "outputs": [
    {
     "name": "stdout",
     "output_type": "stream",
     "text": [
      "Epoch:  1 | Loss:  0.002523618284612894\n",
      "Epoch:  11 | Loss:  0.0007967379060573876\n",
      "Epoch:  21 | Loss:  0.0005939420661889017\n",
      "Epoch:  31 | Loss:  0.0006191811407916248\n",
      "Epoch:  41 | Loss:  0.0006042623426765203\n",
      "Epoch:  51 | Loss:  0.0005843277904205024\n",
      "Epoch:  61 | Loss:  0.0005764116067439318\n",
      "Epoch:  71 | Loss:  0.0005616816924884915\n",
      "Epoch:  81 | Loss:  0.0004945988766849041\n",
      "Epoch:  91 | Loss:  0.0002980066929012537\n",
      "Epoch:  101 | Loss:  0.0002227638615295291\n",
      "Epoch:  111 | Loss:  0.00018132870900444686\n",
      "Epoch:  121 | Loss:  0.00016627809964120388\n",
      "Epoch:  131 | Loss:  0.000138866322231479\n",
      "Epoch:  141 | Loss:  0.0001169874012703076\n",
      "Epoch:  151 | Loss:  0.00010994190233759582\n",
      "Epoch:  161 | Loss:  9.118253365159035e-05\n",
      "Epoch:  171 | Loss:  8.30958888400346e-05\n",
      "Epoch:  181 | Loss:  8.25399620225653e-05\n",
      "Epoch:  191 | Loss:  7.46167206671089e-05\n",
      "Epoch:  201 | Loss:  6.887879862915725e-05\n",
      "Epoch:  211 | Loss:  6.371843483066186e-05\n",
      "Epoch:  221 | Loss:  6.719672092003748e-05\n",
      "Epoch:  231 | Loss:  6.060872692614794e-05\n",
      "Epoch:  241 | Loss:  5.831124872202054e-05\n",
      "Epoch:  251 | Loss:  5.789151691715233e-05\n",
      "Epoch:  261 | Loss:  5.378997229854576e-05\n",
      "Epoch:  271 | Loss:  5.04732524859719e-05\n",
      "Epoch:  281 | Loss:  4.7159221139736474e-05\n",
      "Epoch:  291 | Loss:  4.651703784475103e-05\n",
      "Epoch:  301 | Loss:  4.4196724047651514e-05\n",
      "Epoch:  311 | Loss:  4.364283086033538e-05\n",
      "Epoch:  321 | Loss:  4.3507803638931364e-05\n",
      "Epoch:  331 | Loss:  4.4015367166139185e-05\n",
      "Epoch:  341 | Loss:  4.1360530303791165e-05\n",
      "Epoch:  351 | Loss:  3.9611535612493753e-05\n",
      "Epoch:  361 | Loss:  4.1759994928725064e-05\n",
      "Epoch:  371 | Loss:  4.1306517232442275e-05\n",
      "Epoch:  381 | Loss:  3.833234222838655e-05\n",
      "Epoch:  391 | Loss:  3.8741931348340586e-05\n",
      "Epoch:  401 | Loss:  3.482796091702767e-05\n",
      "Epoch:  411 | Loss:  3.64908337360248e-05\n",
      "Epoch:  421 | Loss:  3.335624569444917e-05\n",
      "Epoch:  431 | Loss:  3.6384022678248584e-05\n",
      "Epoch:  441 | Loss:  3.3159511076519266e-05\n",
      "Epoch:  451 | Loss:  3.312548142275773e-05\n",
      "Epoch:  461 | Loss:  3.428470154176466e-05\n",
      "Epoch:  471 | Loss:  3.116771767963655e-05\n",
      "Epoch:  481 | Loss:  3.053278851439245e-05\n",
      "Epoch:  491 | Loss:  3.241642480134033e-05\n",
      "Epoch:  501 | Loss:  3.2132396881934255e-05\n",
      "Epoch:  511 | Loss:  3.1352825317298993e-05\n",
      "Epoch:  521 | Loss:  2.9020762667641975e-05\n",
      "Epoch:  531 | Loss:  3.1377854611491784e-05\n",
      "Epoch:  541 | Loss:  3.1449606467504054e-05\n",
      "Epoch:  551 | Loss:  2.9833974622306414e-05\n",
      "Epoch:  561 | Loss:  2.821334965119604e-05\n",
      "Epoch:  571 | Loss:  2.8834603654104285e-05\n",
      "Epoch:  581 | Loss:  2.967472937598359e-05\n",
      "Epoch:  591 | Loss:  2.8951617423444986e-05\n",
      "Epoch:  601 | Loss:  2.7371330361347646e-05\n",
      "Epoch:  611 | Loss:  2.875397512980271e-05\n",
      "Epoch:  621 | Loss:  2.980347017000895e-05\n",
      "Epoch:  631 | Loss:  2.830999255820643e-05\n",
      "Epoch:  641 | Loss:  2.7534088076208718e-05\n",
      "Epoch:  651 | Loss:  2.758964546956122e-05\n",
      "Epoch:  661 | Loss:  2.773267260636203e-05\n",
      "Epoch:  671 | Loss:  2.6856467229663394e-05\n",
      "Epoch:  681 | Loss:  2.7527534257387742e-05\n",
      "Epoch:  691 | Loss:  2.7142059479956515e-05\n",
      "Epoch:  701 | Loss:  2.8108659535064362e-05\n",
      "Epoch:  711 | Loss:  2.6628305931808427e-05\n",
      "Epoch:  721 | Loss:  2.6195197278866544e-05\n",
      "Epoch:  731 | Loss:  2.606586531328503e-05\n",
      "Epoch:  741 | Loss:  2.5066654416150413e-05\n",
      "Epoch:  751 | Loss:  2.694571048778016e-05\n",
      "Epoch:  761 | Loss:  2.82696037174901e-05\n",
      "Epoch:  771 | Loss:  2.5807823476498015e-05\n",
      "Epoch:  781 | Loss:  2.5356634068884887e-05\n",
      "Epoch:  791 | Loss:  2.465044781274628e-05\n",
      "Epoch:  801 | Loss:  2.53853686444927e-05\n",
      "Epoch:  811 | Loss:  2.6245106710121036e-05\n",
      "Epoch:  821 | Loss:  2.3166292521636933e-05\n",
      "Epoch:  831 | Loss:  2.5275938241975382e-05\n",
      "Epoch:  841 | Loss:  2.6041863748105243e-05\n",
      "Epoch:  851 | Loss:  2.6043764592031948e-05\n",
      "Epoch:  861 | Loss:  2.621613020892255e-05\n",
      "Epoch:  871 | Loss:  2.3821470676921308e-05\n",
      "Epoch:  881 | Loss:  2.5072809876292013e-05\n",
      "Epoch:  891 | Loss:  2.2779526261729188e-05\n",
      "Epoch:  901 | Loss:  2.4990911697386764e-05\n",
      "Epoch:  911 | Loss:  2.512521496100817e-05\n",
      "Epoch:  921 | Loss:  2.512172795832157e-05\n",
      "Epoch:  931 | Loss:  2.3563015929539688e-05\n",
      "Epoch:  941 | Loss:  2.3578619220643304e-05\n",
      "Epoch:  951 | Loss:  2.5000765162985772e-05\n",
      "Epoch:  961 | Loss:  2.3124070139601827e-05\n",
      "Epoch:  971 | Loss:  2.306839269294869e-05\n",
      "Epoch:  981 | Loss:  2.4690616555744782e-05\n",
      "Epoch:  991 | Loss:  2.3631715521332808e-05\n"
     ]
    }
   ],
   "source": [
    "n_epochs = 1000\n",
    "for epoch in range(n_epochs):\n",
    "    model.zero_grad()\n",
    "    y_pred = model(X_train)\n",
    "    loss= loss_function(y_pred, y_train)\n",
    "    loss.backward()\n",
    "    optimizer.step()\n",
    "    if epoch%10==0:\n",
    "        print(\"Epoch: \", epoch+1, \"| Loss: \", float(loss))"
   ]
  },
  {
   "cell_type": "code",
   "execution_count": 21,
   "metadata": {},
   "outputs": [
    {
     "data": {
      "text/plain": [
       "LSTM(\n",
       "  (lstm): LSTM(60, 70, num_layers=4, dropout=0.2)\n",
       "  (linear): Linear(in_features=70, out_features=1, bias=True)\n",
       ")"
      ]
     },
     "execution_count": 21,
     "metadata": {},
     "output_type": "execute_result"
    }
   ],
   "source": [
    "model.to(\"cpu\")"
   ]
  },
  {
   "cell_type": "markdown",
   "metadata": {},
   "source": [
    "## Test"
   ]
  },
  {
   "cell_type": "code",
   "execution_count": 23,
   "metadata": {},
   "outputs": [
    {
     "data": {
      "text/plain": [
       "200"
      ]
     },
     "execution_count": 23,
     "metadata": {},
     "output_type": "execute_result"
    }
   ],
   "source": [
    "# Getting the stock price of 2020\n",
    "dataset_test = pd.read_csv(\"TSLA.csv\")\n",
    "dataset_test = dataset_test.iloc[-200:]\n",
    "len(dataset_test)"
   ]
  },
  {
   "cell_type": "code",
   "execution_count": 24,
   "metadata": {},
   "outputs": [],
   "source": [
    "real_stock_price = dataset_test.iloc[:, 1:2].values"
   ]
  },
  {
   "cell_type": "code",
   "execution_count": 25,
   "metadata": {},
   "outputs": [],
   "source": [
    "dataset_total = pd.concat((dataset_train['Open'], dataset_test['Open']), axis = 0)\n",
    "inputs = dataset_total[len(dataset_total) - len(dataset_test) - 60:].values\n",
    "inputs = inputs.reshape(-1,1)\n",
    "inputs = sc.transform(inputs)\n",
    "X_test = []\n",
    "for i in range(60, len(inputs)):\n",
    "    X_test.append(inputs[i-60:i, 0])\n",
    "X_test = torch.Tensor(X_test)\n",
    "X_test = X_test.reshape(1, len(X_test), 60)\n",
    "predicted_stock_price = model(X_test)\n",
    "predicted_stock_price = torch.Tensor.cpu(predicted_stock_price).detach().numpy()[-1]\n",
    "predicted_stock_price = sc.inverse_transform(np.array(predicted_stock_price))"
   ]
  },
  {
   "cell_type": "code",
   "execution_count": 26,
   "metadata": {},
   "outputs": [
    {
     "data": {
      "image/png": "[encoded data removed]",
      "text/plain": [
       "<Figure size 432x288 with 1 Axes>"
      ]
     },
     "metadata": {
      "needs_background": "light"
     },
     "output_type": "display_data"
    }
   ],
   "source": [
    "plt.plot(real_stock_price, color = 'red', label = 'Real Tesla Stock Price')\n",
    "plt.plot(predicted_stock_price, color = 'blue', label = 'Predicted Tesla Stock Price')\n",
    "plt.title('Tesla Stock Price Prediction')\n",
    "plt.xlabel('Time')\n",
    "plt.ylabel('Tesla Stock Price')\n",
    "plt.legend()\n",
    "plt.show()"
   ]
  },
  {
   "cell_type": "code",
   "execution_count": null,
   "metadata": {},
   "outputs": [],
   "source": []
  }
 ],
 "metadata": {
  "kernelspec": {
   "display_name": "Python 3",
   "language": "python",
   "name": "python3"
  },
  "language_info": {
   "codemirror_mode": {
    "name": "ipython",
    "version": 3
   },
   "file_extension": ".py",
   "mimetype": "text/x-python",
   "name": "python",
   "nbconvert_exporter": "python",
   "pygments_lexer": "ipython3",
   "version": "3.7.9"
  }
 },
 "nbformat": 4,
 "nbformat_minor": 4
}
